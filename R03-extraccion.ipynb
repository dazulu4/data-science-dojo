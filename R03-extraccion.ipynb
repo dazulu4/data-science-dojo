{
 "cells": [
  {
   "cell_type": "markdown",
   "metadata": {},
   "source": [
    "Extracción de datos\n",
    "==="
   ]
  },
  {
   "cell_type": "markdown",
   "metadata": {},
   "source": [
    "#### Contenido"
   ]
  },
  {
   "cell_type": "markdown",
   "metadata": {},
   "source": [
    ">\n",
    "  * [Lectura y escritura de archivos de texto](#Lectura-y-escritura-de-archivos-de-texto)\n",
    "  * [Formato nativo de R   ](#Formato-nativo-de-R)\n",
    "  * [Feather R/Python interchange format](#Feather-R/Python-interchange-format)\n",
    "  * [CSV](#CSV)\n",
    "  * [CSV2](#CSV2)\n",
    "  * [TXT con formato libre](#TXT-con-formato-libre)\n",
    "  * [TXT como tablas de texto](#TXT-como-tablas-de-texto)\n",
    "  * [TXT con formato de ancho fijo](#TXT-con-formato-de-ancho-fijo)\n",
    "  * [JSON](#JSON)\n",
    "  * [HTML](#HTML)\n",
    "  * [Excel](#Excel)\n",
    "  * [HDF5](#HDF5)\n",
    "  * [STATA](#STATA)\n",
    "  * [SAS](#SAS)\n",
    "  * [XBASE](#XBASE)\n",
    "  * [MySQL y MariaDB](#MySQL-y-MariaDB)\n",
    "  * [XML](#XML)\n",
    "  * [ARFF Weka](#ARFF-Weka)\n",
    "  * [MPT minitab portable worksheet  ](#MPT-minitab-portable-worksheet)\n",
    "  * [PDF](#PDF)"
   ]
  },
  {
   "cell_type": "markdown",
   "metadata": {},
   "source": [
    "**Datos de ejemplo**.  \n",
    "> \n",
    "[`Constants {base}`](https://stat.ethz.ch/R-manual/R-devel/library/base/html/Constants.html)  \n",
    "[`Uniform {stats}`](https://stat.ethz.ch/R-manual/R-devel/library/stats/html/Uniform.html)  \n"
   ]
  },
  {
   "cell_type": "code",
   "execution_count": null,
   "metadata": {
    "scrolled": true
   },
   "outputs": [],
   "source": [
    "## crea un dataframe de prueba\n",
    "df <- data.frame(index = 1:5,\n",
    "                 name = LETTERS[1:5],\n",
    "                 value = round(runif(5)*10, 2))\n",
    "print(df)                "
   ]
  },
  {
   "cell_type": "code",
   "execution_count": null,
   "metadata": {},
   "outputs": [],
   "source": [
    "## crea un texto de prueba en formato libre (obtenido de wikipedia)\n",
    "## los cambios de línea introducen caracteres de retorno de carro '\\n'\n",
    "txt = \"R is a programming language and software environment for statistical computing \n",
    "and graphics supported by the R Foundation for Statistical Computing.[3] The R language \n",
    "is widely used among statisticians and data miners for developing statistical software[4] \n",
    "and data analysis.[5] Polls, surveys of data miners, and studies of scholarly literature \n",
    "databases show that R's popularity has increased substantially in recent years.[6]\""
   ]
  },
  {
   "cell_type": "code",
   "execution_count": null,
   "metadata": {},
   "outputs": [],
   "source": [
    "print(txt)"
   ]
  },
  {
   "cell_type": "code",
   "execution_count": null,
   "metadata": {},
   "outputs": [],
   "source": [
    "## escribe el archivo en disco\n",
    "cat(txt, file = 'files/wikipedia.txt')"
   ]
  },
  {
   "cell_type": "markdown",
   "metadata": {},
   "source": [
    "---"
   ]
  },
  {
   "cell_type": "markdown",
   "metadata": {},
   "source": [
    "# Lectura y escritura de archivos de texto"
   ]
  },
  {
   "cell_type": "markdown",
   "metadata": {
    "collapsed": true
   },
   "source": [
    "[Contenido](#Contenido)"
   ]
  },
  {
   "cell_type": "markdown",
   "metadata": {},
   "source": [
    "> [`readLines {base}`](https://stat.ethz.ch/R-manual/R-devel/library/base/html/readLines.html)  \n",
    "[`writeLines {base}`](https://stat.ethz.ch/R-manual/R-devel/library/base/html/writeLines.html)  \n",
    "[`scan {base}`](https://stat.ethz.ch/R-manual/R-devel/library/base/html/scan.html)"
   ]
  },
  {
   "cell_type": "code",
   "execution_count": null,
   "metadata": {},
   "outputs": [],
   "source": [
    "# escribe el contenido del vector de strings al archivo\n",
    "writeLines(text = sprintf('linea %d', seq(5)), # genera el vector de strings\n",
    "           con = 'out.1',  # nombre del archivo\n",
    "           sep = '\\n')     # separador entre strings (retorno de carro)"
   ]
  },
  {
   "cell_type": "code",
   "execution_count": null,
   "metadata": {},
   "outputs": [],
   "source": [
    "# lee el contenido total o parcial del archivo\n",
    "readLines(con = 'out.1',  # nombre del archivo\n",
    "          n = -1L)        # la totalidad del archivo"
   ]
  },
  {
   "cell_type": "code",
   "execution_count": null,
   "metadata": {},
   "outputs": [],
   "source": [
    "# lee el contenido total o parcial del archivo\n",
    "readLines(con = 'out.1',  # nombre del archivo\n",
    "          n = 3)          # las primeras 3 lineas"
   ]
  },
  {
   "cell_type": "code",
   "execution_count": null,
   "metadata": {},
   "outputs": [],
   "source": [
    "writeLines(text = as.character(seq(10)), # genera una secuencia de enteros 1, ..., 10\n",
    "           con = 'out.1',                # nombre del archivo\n",
    "           sep = '\\n')                   # separador entre strings (retorno de carro)"
   ]
  },
  {
   "cell_type": "code",
   "execution_count": null,
   "metadata": {},
   "outputs": [],
   "source": [
    "# imprime las lineas, una a una\n",
    "cat(\"linea 1\\n\", file='out.1')\n",
    "cat(\"linea 2\\n\", file='out.1', append=TRUE)\n",
    "cat(\"linea 3\\n\", file='out.1', append=TRUE)\n",
    "readLines('out.1')"
   ]
  },
  {
   "cell_type": "code",
   "execution_count": null,
   "metadata": {},
   "outputs": [],
   "source": [
    "cat(\"\", file='out.1') # crea un archivo vacío\n",
    "print(readLines('out.1'))"
   ]
  },
  {
   "cell_type": "markdown",
   "metadata": {},
   "source": [
    "En el siguiente ejemplo se realiza la concatenación del contenido de archivos."
   ]
  },
  {
   "cell_type": "code",
   "execution_count": null,
   "metadata": {},
   "outputs": [],
   "source": [
    "# se crean tres archivos\n",
    "cat(sprintf('linea %d', seq(from=1, to=3)), sep='\\n', file='out.1')\n",
    "cat(sprintf('linea %d', seq(from=4, to=6)), sep='\\n', file='out.2')\n",
    "cat(sprintf('linea %d', seq(from=7, to=9)), sep='\\n', file='out.3')"
   ]
  },
  {
   "cell_type": "code",
   "execution_count": null,
   "metadata": {},
   "outputs": [],
   "source": [
    "x <- readLines('out.1')       # inicializa la variable con el contenido de `out.1`. \n",
    "x <- c(x, readLines('out.2')) # agrega el contenido de `out.2` a x\n",
    "x <- c(x, readLines('out.3')) # agrega el contenido de `out.3` a x\n",
    "cat(x, sep='\\n')"
   ]
  },
  {
   "cell_type": "code",
   "execution_count": null,
   "metadata": {},
   "outputs": [],
   "source": [
    "# se leen las tres primeras lineas del archivo\n",
    "cat(sprintf('linea %d', seq(10)), sep='\\n', file='out.1') # crea el archivo\n",
    "readLines('out.1', ok=TRUE, n=3)  "
   ]
  },
  {
   "cell_type": "code",
   "execution_count": null,
   "metadata": {},
   "outputs": [],
   "source": [
    "cat(\"linea 1\", \"linea 2\", \"linea 3\", # cadenas de texto (strings)\n",
    "    sep='\\n',                        # separador entre strings\n",
    "    file='out.1')                    # nombre del archivo "
   ]
  },
  {
   "cell_type": "code",
   "execution_count": null,
   "metadata": {},
   "outputs": [],
   "source": [
    "readLines('out.1') # lee el archivo"
   ]
  },
  {
   "cell_type": "code",
   "execution_count": null,
   "metadata": {},
   "outputs": [],
   "source": [
    "cat(sprintf('linea %d', seq(10)), sep='\\n', file='out.1') # crea el archivo\n",
    "# se leen las tres últimas lineas del archivo\n",
    "x <- readLines('out.1', ok=TRUE)\n",
    "x[(length(x)-2):length(x)]"
   ]
  },
  {
   "cell_type": "code",
   "execution_count": null,
   "metadata": {},
   "outputs": [],
   "source": [
    "# se todas las lineas del archivo, exceptuando las cuatro primeras.\n",
    "x <- readLines('out.1', ok=TRUE)\n",
    "x[-(1:4)]"
   ]
  },
  {
   "cell_type": "code",
   "execution_count": null,
   "metadata": {},
   "outputs": [],
   "source": [
    "# cuenta la cantidad de líneas del archivo\n",
    "length(readLines('out.1'))"
   ]
  },
  {
   "cell_type": "code",
   "execution_count": null,
   "metadata": {},
   "outputs": [],
   "source": [
    "# divide el contenido del archivo en palabras\n",
    "x <- readLines('out.1')\n",
    "#print(strsplit(x, split=' '))\n",
    "print(unlist(strsplit(x, split=' ')))"
   ]
  },
  {
   "cell_type": "code",
   "execution_count": null,
   "metadata": {},
   "outputs": [],
   "source": [
    "# cuenta la cantidad de palabras del archivo\n",
    "x <- readLines('out.1')\n",
    "x <- paste(x, sep='', collapse=' ')  # pega todas las líneas en un solo string\n",
    "x <- strsplit(x, split=' ')[[1]]\n",
    "length(x)"
   ]
  },
  {
   "cell_type": "code",
   "execution_count": null,
   "metadata": {},
   "outputs": [],
   "source": [
    "# cuenta la cantidad de caracteres de un archivo\n",
    "x <- readLines('out.1')\n",
    "x <- paste(x, sep='', collapse=' ')\n",
    "x <- strsplit(x, split=' ')[[1]]\n",
    "sum(nchar(x))"
   ]
  },
  {
   "cell_type": "markdown",
   "metadata": {},
   "source": [
    "La función `scan()` permite la escritura directa a archivos en disco duro."
   ]
  },
  {
   "cell_type": "code",
   "execution_count": null,
   "metadata": {},
   "outputs": [],
   "source": [
    "cat(sprintf('%d', seq(10)), sep='\\n', file='out.1') # crea el archivo\n",
    "scan('out.1') # lee el contenido del archivo y lo convierte en vector"
   ]
  },
  {
   "cell_type": "code",
   "execution_count": null,
   "metadata": {},
   "outputs": [],
   "source": [
    "scan(text='1.2.3.4.5.6.7.8.9.10', sep='.') # tambien puede leer de strings"
   ]
  },
  {
   "cell_type": "markdown",
   "metadata": {},
   "source": [
    "# Formato nativo de R   "
   ]
  },
  {
   "cell_type": "markdown",
   "metadata": {
    "collapsed": true
   },
   "source": [
    "[Contenido](#Contenido)"
   ]
  },
  {
   "cell_type": "markdown",
   "metadata": {},
   "source": [
    "> [`save {base}`](https://stat.ethz.ch/R-manual/R-devel/library/base/html/save.html)  \n",
    "[`load {base}`](https://stat.ethz.ch/R-manual/R-devel/library/base/html/load.html)  \n",
    "[`readRDS {base}`](https://stat.ethz.ch/R-manual/R-devel/library/base/html/readRDS.html)  \n",
    "[`saveRDS {base}`](https://stat.ethz.ch/R-manual/R-devel/library/base/html/readRDS.html)  "
   ]
  },
  {
   "cell_type": "code",
   "execution_count": null,
   "metadata": {},
   "outputs": [],
   "source": [
    "## Salva el dataframe. se pueden salvar varios objetos simultáneamente\n",
    "save(df, file='files/data.RData') "
   ]
  },
  {
   "cell_type": "code",
   "execution_count": null,
   "metadata": {},
   "outputs": [],
   "source": [
    "## Se listan las variables existentes en el entorno.\n",
    "ls()"
   ]
  },
  {
   "cell_type": "code",
   "execution_count": null,
   "metadata": {},
   "outputs": [],
   "source": [
    "## remueve el dataframe.\n",
    "rm(df)\n",
    "ls()"
   ]
  },
  {
   "cell_type": "code",
   "execution_count": null,
   "metadata": {},
   "outputs": [],
   "source": [
    "## recupera el dataset `df` del archivo.\n",
    "load(file='files/data.RData' )\n",
    "print(df)"
   ]
  },
  {
   "cell_type": "code",
   "execution_count": null,
   "metadata": {},
   "outputs": [],
   "source": [
    "saveRDS(df, \"files/data.rds\")"
   ]
  },
  {
   "cell_type": "code",
   "execution_count": null,
   "metadata": {
    "scrolled": true
   },
   "outputs": [],
   "source": [
    "print(readRDS(\"files/data.rds\"))"
   ]
  },
  {
   "cell_type": "markdown",
   "metadata": {},
   "source": [
    "# Feather R/Python interchange format"
   ]
  },
  {
   "cell_type": "markdown",
   "metadata": {
    "collapsed": true
   },
   "source": [
    "[Contenido](#Contenido)"
   ]
  },
  {
   "cell_type": "markdown",
   "metadata": {},
   "source": [
    "> \n",
    "[`read_feather {feather}`](https://cran.r-project.org/web/packages/feather/index.html)  \n",
    "[`write_feather {feather}`](https://cran.r-project.org/web/packages/feather/index.html)\n",
    "\n",
    "> Instalación:\n",
    "```\n",
    "devtools::install_github(\"wesm/feather/R\")\n",
    "```"
   ]
  },
  {
   "cell_type": "code",
   "execution_count": null,
   "metadata": {},
   "outputs": [],
   "source": [
    "library(feather)\n",
    "write_feather(df, 'files/data.feather')"
   ]
  },
  {
   "cell_type": "code",
   "execution_count": null,
   "metadata": {},
   "outputs": [],
   "source": [
    "x <- read_feather('files/data.feather')\n",
    "print(x)"
   ]
  },
  {
   "cell_type": "markdown",
   "metadata": {},
   "source": [
    "# CSV"
   ]
  },
  {
   "cell_type": "markdown",
   "metadata": {
    "collapsed": true
   },
   "source": [
    "[Contenido](#Contenido)"
   ]
  },
  {
   "cell_type": "markdown",
   "metadata": {},
   "source": [
    "> [`write.csv {utils}`](https://stat.ethz.ch/R-manual/R-devel/library/utils/html/write.table.html)  \n",
    "[`read.csv {utils}`](https://stat.ethz.ch/R-manual/R-devel/library/utils/html/read.table.html)  "
   ]
  },
  {
   "cell_type": "code",
   "execution_count": null,
   "metadata": {},
   "outputs": [],
   "source": [
    "## lo escribe con formato csv.\n",
    "write.csv(x = df, \n",
    "          file = 'files/data.csv',  # archivo\n",
    "          row.names = FALSE)        # imprime los nombres de las filas?\n",
    "\n",
    "## imprime el contenido del archivo\n",
    "x <- readLines(con = 'files/data.csv', n = -1L)\n",
    "cat(x , sep = '\\n')"
   ]
  },
  {
   "cell_type": "code",
   "execution_count": null,
   "metadata": {},
   "outputs": [],
   "source": [
    "## graba el dataset 'iris' para usarlo en el tutorial de python\n",
    "write.csv(x = iris, \n",
    "          file = 'files/iris.csv',  # archivo\n",
    "          row.names = FALSE)        # imprime los nombres de las filas?"
   ]
  },
  {
   "cell_type": "code",
   "execution_count": null,
   "metadata": {
    "scrolled": true
   },
   "outputs": [],
   "source": [
    "## lectura\n",
    "x <- read.csv(file = 'files/data.csv', # nombre del archivo\n",
    "              header = TRUE,           # nombres de columnas\n",
    "              sep = \",\",               # separador de campos\n",
    "              dec = \".\")               # separador de decimales\n",
    "print(x)"
   ]
  },
  {
   "cell_type": "markdown",
   "metadata": {},
   "source": [
    "# CSV2"
   ]
  },
  {
   "cell_type": "markdown",
   "metadata": {
    "collapsed": true
   },
   "source": [
    "[Contenido](#Contenido)"
   ]
  },
  {
   "cell_type": "markdown",
   "metadata": {},
   "source": [
    "> [`write.csv2 {utils}`](https://stat.ethz.ch/R-manual/R-devel/library/utils/html/write.table.html)  \n",
    "[`read.csv2 {utils}`](https://stat.ethz.ch/R-manual/R-devel/library/utils/html/read.table.html) "
   ]
  },
  {
   "cell_type": "code",
   "execution_count": null,
   "metadata": {},
   "outputs": [],
   "source": [
    "## ';' para campos y ',' para decimales.\n",
    "write.csv2(x = df, \n",
    "           file = 'files/data.csv2',  # archivo\n",
    "           row.names = FALSE)         # imprime los nombres de las filas?\n",
    "\n",
    "## imprime el contenido del archivo\n",
    "cat(readLines(con = 'files/data.csv2', n = -1L), sep = '\\n')"
   ]
  },
  {
   "cell_type": "code",
   "execution_count": null,
   "metadata": {
    "scrolled": true
   },
   "outputs": [],
   "source": [
    "## lectura\n",
    "x <- read.csv(file='files/data.csv2', # nombre del archivo\n",
    "              header=TRUE,            # nombres de columnas\n",
    "              sep = \";\",              # separador de campos\n",
    "              dec = \",\")              # separador de decimales\n",
    "print(x)"
   ]
  },
  {
   "cell_type": "markdown",
   "metadata": {},
   "source": [
    "# TXT con formato libre"
   ]
  },
  {
   "cell_type": "markdown",
   "metadata": {
    "collapsed": true
   },
   "source": [
    "[Contenido](#Contenido)"
   ]
  },
  {
   "cell_type": "markdown",
   "metadata": {
    "collapsed": true
   },
   "source": [
    "> [`scan {base}`](https://stat.ethz.ch/R-manual/R-devel/library/base/html/scan.html)"
   ]
  },
  {
   "cell_type": "code",
   "execution_count": null,
   "metadata": {
    "scrolled": true
   },
   "outputs": [],
   "source": [
    "## separa el contenido del archivo por palabra \n",
    "## (strings delimitados por espacios en blanco)\n",
    "print(scan(file = 'files/wikipedia.txt',  # nombre del archivo\n",
    "           what = character(0)))          # tipo de dato          "
   ]
  },
  {
   "cell_type": "code",
   "execution_count": null,
   "metadata": {
    "scrolled": false
   },
   "outputs": [],
   "source": [
    "## separa el contenido del archivo por renglon y frase\n",
    "print(scan(file = 'files/wikipedia.txt',   #\n",
    "           what = character(0),            #\n",
    "           quote='',                       # \n",
    "           sep='.'))                       # caracter de separación "
   ]
  },
  {
   "cell_type": "markdown",
   "metadata": {},
   "source": [
    "# TXT como tablas de texto"
   ]
  },
  {
   "cell_type": "markdown",
   "metadata": {
    "collapsed": true
   },
   "source": [
    "[Contenido](#Contenido)"
   ]
  },
  {
   "cell_type": "markdown",
   "metadata": {},
   "source": [
    "> [`write.table {utils}`](https://stat.ethz.ch/R-manual/R-devel/library/utils/html/write.table.html)  \n",
    "[`read.table {utils}`](https://stat.ethz.ch/R-manual/R-devel/library/utils/html/read.table.html)  "
   ]
  },
  {
   "cell_type": "code",
   "execution_count": null,
   "metadata": {},
   "outputs": [],
   "source": [
    "## escribe el archivo en forma de tabla \n",
    "write.table(x = df,                   # el dataframe\n",
    "            file = 'files/data.txt',  # archivo\n",
    "            append = FALSE,           # lo agrega al final del archivo? \n",
    "            sep = ' ',                # caracter de separcion entre campos\n",
    "            quote = FALSE,            # delimitador\n",
    "            row.names = FALSE,        # imprime los nombres de las filas? No\n",
    "            col.names = TRUE)         # imprime los nombres de las columnas? Si\n",
    "\n",
    "## imprime el contenido del archivo\n",
    "cat(readLines(con = 'files/data.txt', n = -1L), sep = '\\n')"
   ]
  },
  {
   "cell_type": "code",
   "execution_count": null,
   "metadata": {
    "scrolled": true
   },
   "outputs": [],
   "source": [
    "x <- read.table(file = 'files/data.txt', \n",
    "                header = TRUE, \n",
    "                sep = \"\", \n",
    "                quote = \"\\\"'\")     \n",
    "print(x)"
   ]
  },
  {
   "cell_type": "markdown",
   "metadata": {},
   "source": [
    "# TXT con formato de ancho fijo"
   ]
  },
  {
   "cell_type": "markdown",
   "metadata": {
    "collapsed": true
   },
   "source": [
    "[Contenido](#Contenido)"
   ]
  },
  {
   "cell_type": "markdown",
   "metadata": {},
   "source": [
    "> [`read.fwf {utils}`](https://stat.ethz.ch/R-manual/R-devel/library/utils/html/read.fwf.html)  \n",
    "[`write.fwf {gdata}`](http://svitsrv25.epfl.ch/R-doc/library/gdata/html/write.fwf.html)"
   ]
  },
  {
   "cell_type": "code",
   "execution_count": null,
   "metadata": {},
   "outputs": [],
   "source": [
    "# crea un archivo separado por multiples espacios en blanco.\n",
    "# los nombres de las columnas están separados por comas.\n",
    "cat(\"index,names,values,codes\",\n",
    "    \"00001john wick002.1310\",\n",
    "    \"00002mark twin003.1411\",\n",
    "    \"00003louis ng 004.3412\",\n",
    "    \"00004dan brown002.3113\",\n",
    "    \"00005ann marie004.9814\", sep = '\\n', file = 'files/data.fwf')"
   ]
  },
  {
   "cell_type": "code",
   "execution_count": null,
   "metadata": {},
   "outputs": [],
   "source": [
    "x <- read.fwf(file='files/data.fwf',    # nombre del archivo\n",
    "              widths=c(5,9,6,2),        # anchos de los campos\n",
    "              header = TRUE,            # nombres de columnas\n",
    "              sep = \",\")                # separador de los nombres de columnas\n",
    "\n",
    "print(x)"
   ]
  },
  {
   "cell_type": "markdown",
   "metadata": {},
   "source": [
    "# JSON"
   ]
  },
  {
   "cell_type": "markdown",
   "metadata": {
    "collapsed": true
   },
   "source": [
    "[Contenido](#Contenido)"
   ]
  },
  {
   "cell_type": "markdown",
   "metadata": {},
   "source": [
    "> [`toJSON {jsonlite}`](https://cran.r-project.org/web/packages/jsonlite/index.html)  \n",
    "[`fromJSON {jsonlite}`](https://cran.r-project.org/web/packages/jsonlite/index.html) \n",
    "\n",
    "> [`toJSON {rjson}`](https://cran.r-project.org/web/packages/rjson/index.html)  \n",
    "[`fromJSON {rjson}`](https://cran.r-project.org/web/packages/rjson/index.html)\n",
    "\n",
    "> JSON en [Wikipedia](https://es.wikipedia.org/wiki/JSON)  "
   ]
  },
  {
   "cell_type": "code",
   "execution_count": null,
   "metadata": {},
   "outputs": [],
   "source": [
    "# carga las librerias\n",
    "library(jsonlite)\n",
    "library(rjson)"
   ]
  },
  {
   "cell_type": "code",
   "execution_count": null,
   "metadata": {},
   "outputs": [],
   "source": [
    "## convierte a JSON\n",
    "jsonlite::toJSON(df, pretty = TRUE)"
   ]
  },
  {
   "cell_type": "code",
   "execution_count": null,
   "metadata": {},
   "outputs": [],
   "source": [
    "jsonlite::fromJSON(jsonlite::toJSON(df))\n",
    "print(x)"
   ]
  },
  {
   "cell_type": "code",
   "execution_count": null,
   "metadata": {
    "scrolled": false
   },
   "outputs": [],
   "source": [
    "x <- rjson::fromJSON(file = \"files/data.json\" )\n",
    "#str(x)\n",
    "x"
   ]
  },
  {
   "cell_type": "markdown",
   "metadata": {},
   "source": [
    "# HTML"
   ]
  },
  {
   "cell_type": "markdown",
   "metadata": {
    "collapsed": true
   },
   "source": [
    "[Contenido](#Contenido)"
   ]
  },
  {
   "cell_type": "markdown",
   "metadata": {},
   "source": [
    "> [`rio` Package](https://cran.r-project.org/web/packages/rio/index.html): : A Swiss-Army Knife for Data I/O"
   ]
  },
  {
   "cell_type": "code",
   "execution_count": null,
   "metadata": {},
   "outputs": [],
   "source": [
    "library(rio)\n",
    "export(df, 'files/data.html')\n",
    "\n",
    "# imprime el archivo creado\n",
    "cat(readLines(con = 'files/data.html', n = -1L), sep = '\\n')"
   ]
  },
  {
   "cell_type": "markdown",
   "metadata": {},
   "source": [
    "# Excel"
   ]
  },
  {
   "cell_type": "markdown",
   "metadata": {
    "collapsed": true
   },
   "source": [
    "[Contenido](#Contenido)"
   ]
  },
  {
   "cell_type": "markdown",
   "metadata": {},
   "source": [
    "> \n",
    "[`WriteXLS {WriteXLS}`](https://cran.r-project.org/web/packages/WriteXLS/)\n",
    "\n",
    "> [`read.xls {gdata}`](http://svitsrv25.epfl.ch/R-doc/library/gdata/html/read.xls.html)  \n",
    "[`read_excel {readxl}`](https://cran.r-project.org/web/packages/readxl/)  \n",
    "[`read.xlsx {xlsx}`](https://cran.r-project.org/web/packages/xlsx/)  \n",
    "[`loadWorkbook {XLConnect}`](https://cran.r-project.org/web/packages/XLConnect/)  \n",
    "[`readWorksheet {XLConnect}`](https://cran.r-project.org/web/packages/XLConnect/)  "
   ]
  },
  {
   "cell_type": "code",
   "execution_count": null,
   "metadata": {},
   "outputs": [],
   "source": [
    "## convierte el data.frame a Excel\n",
    "library(WriteXLS)\n",
    "WriteXLS(x = df, ExcelFileName = \"files/data.xls\")"
   ]
  },
  {
   "cell_type": "code",
   "execution_count": null,
   "metadata": {},
   "outputs": [],
   "source": [
    "library(gdata)                   # contiene la función read.xls\n",
    "x <- read.xls(xls='files/data.xls',   # nombre del archivo\n",
    "              sheet=1)                # indice de la hoja a leer.\n",
    "print(x)"
   ]
  },
  {
   "cell_type": "code",
   "execution_count": null,
   "metadata": {},
   "outputs": [],
   "source": [
    "library(XLConnectJars)\n",
    "library(XLConnect) \n",
    "x <- readWorksheet(loadWorkbook(\"files/data.xlsx\"),  # carga el libro\n",
    "                   sheet=1)                          # lee la hoja 1\n",
    "print(x)"
   ]
  },
  {
   "cell_type": "code",
   "execution_count": null,
   "metadata": {},
   "outputs": [],
   "source": [
    "library(readxl)  # debe instalar el paquete readxl\n",
    "x <- read_excel(\"files/data.xls\")\n",
    "print(x)"
   ]
  },
  {
   "cell_type": "code",
   "execution_count": null,
   "metadata": {
    "scrolled": false
   },
   "outputs": [],
   "source": [
    "library(xlsx)  \n",
    "x <- read.xlsx('files/data.xlsx',  # el archivo\n",
    "               sheetIndex = 1,     # la hoja\n",
    "               header = TRUE)      # la tabla tiene cabeceras?\n",
    "print(x)"
   ]
  },
  {
   "cell_type": "markdown",
   "metadata": {},
   "source": [
    "# HDF5"
   ]
  },
  {
   "cell_type": "markdown",
   "metadata": {
    "collapsed": true
   },
   "source": [
    "[Contenido](#Contenido)"
   ]
  },
  {
   "cell_type": "markdown",
   "metadata": {},
   "source": [
    "> Para la manipulación de modelos de datos en HDF5 se usa el paquete `hdf5` disponible en bioconductor. Para instalarlo, ejecute los siguientes comandos en el prompt de comandos del IDLE de R.\n",
    "```\n",
    "> source(\"http://bioconductor.org/biocLite.R\")  # bioconductor installer\n",
    "> biocLite(\"rhdf5\")                             # instalador del paquete\n",
    "```\n",
    "El manual de usuario se puede obtener [aquí](http://www.bioconductor.org/packages/release/bioc/vignettes/rhdf5/inst/doc/rhdf5.pdf)."
   ]
  },
  {
   "cell_type": "code",
   "execution_count": null,
   "metadata": {},
   "outputs": [],
   "source": [
    "# si el archivo ya existe lo borra\n",
    "if (file.exists('files/data.h5')) {\n",
    "    file.remove('files/data.h5')\n",
    "}\n",
    "\n",
    "library(rhdf5)\n",
    "h5createFile(\"files/data.h5\")                # crea el archivo\n",
    "h5createGroup(\"files/data.h5\",\"myGroup1\")    # crea un grupo\n",
    "h5createGroup(\"files/data.h5\",\"myGroup2\")    # crea otro grupo\n",
    "h5createGroup(\"files/data.h5\",\"myGroup3\")    # y otro grupo\n",
    "h5ls(\"files/data.h5\")                        # lista los grupos en el archivo"
   ]
  },
  {
   "cell_type": "code",
   "execution_count": null,
   "metadata": {},
   "outputs": [],
   "source": [
    "# se crean varios datos de diferentes tipos \n",
    "a = matrix(1:10,nr=5,nc=2)\n",
    "b = c(1, 2, 3, 4, 5)\n",
    "c = 'holamundo'"
   ]
  },
  {
   "cell_type": "code",
   "execution_count": null,
   "metadata": {},
   "outputs": [],
   "source": [
    "# se escriben los contenidos de las variables al archivo \n",
    "h5write(a,  \"files/data.h5\",\"myGroup1/a\")\n",
    "h5write(b,  \"files/data.h5\",\"myGroup1/b\")\n",
    "h5write(c,  \"files/data.h5\",\"myGroup1/c\")\n",
    "h5write(df, \"files/data.h5\",\"myGroup1/df\")\n",
    "x <- h5ls(\"files/data.h5\")\n",
    "H5close()\n",
    "\n",
    "print(x)"
   ]
  },
  {
   "cell_type": "code",
   "execution_count": null,
   "metadata": {},
   "outputs": [],
   "source": [
    "# lectura del archivo\n",
    "h5f = H5Fopen(\"files/data.h5\")\n",
    "h5f"
   ]
  },
  {
   "cell_type": "code",
   "execution_count": null,
   "metadata": {
    "scrolled": false
   },
   "outputs": [],
   "source": [
    "h5f$myGroup1"
   ]
  },
  {
   "cell_type": "code",
   "execution_count": null,
   "metadata": {},
   "outputs": [],
   "source": [
    "H5close() # cierre de la conexión al archivo."
   ]
  },
  {
   "cell_type": "markdown",
   "metadata": {},
   "source": [
    "# STATA"
   ]
  },
  {
   "cell_type": "markdown",
   "metadata": {
    "collapsed": true
   },
   "source": [
    "[Contenido](#Contenido)"
   ]
  },
  {
   "cell_type": "markdown",
   "metadata": {},
   "source": [
    "> \n",
    "[`read.dta {foreign}`](http://www.inside-r.org/r-doc/foreign/read.dta)  \n",
    "[`write.dta {foreign}`](http://www.inside-r.org/r-doc/foreign/write.dta)"
   ]
  },
  {
   "cell_type": "code",
   "execution_count": null,
   "metadata": {},
   "outputs": [],
   "source": [
    "library(foreign)\n",
    "write.dta(df, 'files/data.dta')"
   ]
  },
  {
   "cell_type": "code",
   "execution_count": null,
   "metadata": {},
   "outputs": [],
   "source": [
    "x <- read.dta('files/data.dta')\n",
    "print(x)"
   ]
  },
  {
   "cell_type": "markdown",
   "metadata": {},
   "source": [
    "# SAS"
   ]
  },
  {
   "cell_type": "markdown",
   "metadata": {
    "collapsed": true
   },
   "source": [
    "[Contenido](#Contenido)"
   ]
  },
  {
   "cell_type": "markdown",
   "metadata": {},
   "source": [
    "> no hay info disponible"
   ]
  },
  {
   "cell_type": "code",
   "execution_count": null,
   "metadata": {},
   "outputs": [],
   "source": [
    "#\n",
    "# pendiente\n",
    "#"
   ]
  },
  {
   "cell_type": "markdown",
   "metadata": {},
   "source": [
    "# XBASE"
   ]
  },
  {
   "cell_type": "markdown",
   "metadata": {
    "collapsed": true
   },
   "source": [
    "[Contenido](#Contenido)"
   ]
  },
  {
   "cell_type": "markdown",
   "metadata": {},
   "source": [
    "> \n",
    "[`read.dbf {foreign}`](http://www.inside-r.org/r-doc/foreign/read.dbf)  \n",
    "[`write.dbf {foreign}`](http://www.inside-r.org/r-doc/foreign/write.dbf)"
   ]
  },
  {
   "cell_type": "code",
   "execution_count": null,
   "metadata": {},
   "outputs": [],
   "source": [
    "library(foreign)\n",
    "write.dbf(df, 'files/data.dbf')"
   ]
  },
  {
   "cell_type": "code",
   "execution_count": null,
   "metadata": {},
   "outputs": [],
   "source": [
    "read.dbf('files/data.dbf')"
   ]
  },
  {
   "cell_type": "markdown",
   "metadata": {
    "collapsed": true
   },
   "source": [
    "# MySQL y MariaDB"
   ]
  },
  {
   "cell_type": "markdown",
   "metadata": {
    "collapsed": true
   },
   "source": [
    "[Contenido](#Contenido)"
   ]
  },
  {
   "cell_type": "markdown",
   "metadata": {
    "collapsed": true
   },
   "source": [
    "> Para estos ejemplos, la máquina local debe tener instalada la herramienta. Visite http://dev.mysql.com/downloads/ para más información.\n",
    "\n",
    "> **Nota.** A continuación se describe el proceso de instalación de MySQL.\n",
    "\n",
    "> 1. Descague el instalador y ejecutelo. Durante la instalación el sistema le suministrará un username y un password inicial. En mi caso: root@localhost y gxnM*y;_x7Vi\n",
    "2. Cuando finalice la instalación, vaya el prompt de comandos y ejecute MySQL. En OS X la ruta es `/usr/local/mysql/bin`.\n",
    "3. Como resultado se abrirá consola de comandos de MySQL.\n",
    "4. En la consola, el primer paso es reiniciar el password. Para ello, ejecute el siguiente comando en la consola:  \n",
    "`ALTER USER 'root'@'localhost' IDENTIFIED BY 'xxx';`\n",
    "5. Cree una base de datos de prueba:  \n",
    "      `CREATE DATABASE test;`\n",
    "6. Salga de MySQL con `quit`."
   ]
  },
  {
   "cell_type": "code",
   "execution_count": null,
   "metadata": {},
   "outputs": [],
   "source": [
    "# crea una conexión a la base de datos\n",
    "library(RMySQL)\n",
    "con_mysql <- dbConnect(RMySQL::MySQL(), \n",
    "                       user=\"root\", \n",
    "                       password=\"xxx\", \n",
    "                       dbname='test')"
   ]
  },
  {
   "cell_type": "code",
   "execution_count": null,
   "metadata": {},
   "outputs": [],
   "source": [
    "# crea una tabla llamada 'mtcars' y graba el dataframe `mtcars` en ella.\n",
    "dbSendQuery(con_mysql, 'drop table if exists mtcars')   # borra la tabla si existe\n",
    "dbWriteTable(conn=con_mysql, name = 'mtcars', value = mtcars) # crea la tabla"
   ]
  },
  {
   "cell_type": "code",
   "execution_count": null,
   "metadata": {},
   "outputs": [],
   "source": [
    "# lista las tablas existentes en la base de datos actual.\n",
    "# 'mtcars'  es la tabla que se acabo de crear\n",
    "dbListTables(con_mysql)"
   ]
  },
  {
   "cell_type": "code",
   "execution_count": null,
   "metadata": {},
   "outputs": [],
   "source": [
    "# obtiene los registros con mpg > 30 de la tabla.\n",
    "result = dbSendQuery(con_mysql, \"select * from mtcars where mpg > 30\")\n",
    "df = fetch(result)\n",
    "df"
   ]
  },
  {
   "cell_type": "code",
   "execution_count": null,
   "metadata": {},
   "outputs": [],
   "source": [
    "dbDisconnect(con_mysql)"
   ]
  },
  {
   "cell_type": "markdown",
   "metadata": {},
   "source": [
    "# XML"
   ]
  },
  {
   "cell_type": "markdown",
   "metadata": {
    "collapsed": true
   },
   "source": [
    "[Contenido](#Contenido)"
   ]
  },
  {
   "cell_type": "markdown",
   "metadata": {},
   "source": [
    "> \n",
    "[`XML` Package](https://cran.r-project.org/web/packages/XML/index.html)  \n",
    "[`rio` Package](https://cran.r-project.org/web/packages/rio/index.html): : A Swiss-Army Knife for Data I/O\n",
    "\n",
    "> XML en [Wikipedia](https://en.wikipedia.org/wiki/XML)  "
   ]
  },
  {
   "cell_type": "code",
   "execution_count": null,
   "metadata": {},
   "outputs": [],
   "source": [
    "library(rio)\n",
    "export(df, 'files/data.xml')"
   ]
  },
  {
   "cell_type": "code",
   "execution_count": null,
   "metadata": {},
   "outputs": [],
   "source": [
    "library(XML)\n",
    "\n",
    "## lee el archivo en formato XML\n",
    "xmlfile <- xmlTreeParse(\"files/data.xml\")\n",
    "\n",
    "##\n",
    "topxml <- xmlRoot(xmlfile)\n",
    "topxml <- xmlSApply(topxml, function(x) xmlSApply(x, xmlValue))\n",
    "\n",
    "##\n",
    "print(topxml)"
   ]
  },
  {
   "cell_type": "code",
   "execution_count": null,
   "metadata": {},
   "outputs": [],
   "source": [
    "xml_df <- data.frame(t(topxml),\n",
    "                     row.names=NULL)\n",
    "print(xml_df)"
   ]
  },
  {
   "cell_type": "code",
   "execution_count": null,
   "metadata": {},
   "outputs": [],
   "source": [
    "# otra forma\n",
    "print(xmlToDataFrame('files/data.xml'))"
   ]
  },
  {
   "cell_type": "markdown",
   "metadata": {},
   "source": [
    "# ARFF Weka"
   ]
  },
  {
   "cell_type": "markdown",
   "metadata": {
    "collapsed": true
   },
   "source": [
    "[Contenido](#Contenido)"
   ]
  },
  {
   "cell_type": "markdown",
   "metadata": {},
   "source": [
    "> \n",
    "[`read.arff {foreign}`](http://www.inside-r.org/r-doc/foreign/read.arff)  \n",
    "[`write.arff {foreign}`](http://www.inside-r.org/r-doc/foreign/write.arff)"
   ]
  },
  {
   "cell_type": "code",
   "execution_count": null,
   "metadata": {},
   "outputs": [],
   "source": [
    "## no es compatible con la librería de Python\n",
    "library(foreign)\n",
    "write.arff(x = df,\n",
    "           file = 'files/data.arff')"
   ]
  },
  {
   "cell_type": "code",
   "execution_count": null,
   "metadata": {},
   "outputs": [],
   "source": [
    "x <- read.arff(file = 'files/data.arff')\n",
    "print(x)"
   ]
  },
  {
   "cell_type": "markdown",
   "metadata": {},
   "source": [
    "# MPT minitab portable worksheet  "
   ]
  },
  {
   "cell_type": "markdown",
   "metadata": {
    "collapsed": true
   },
   "source": [
    "[Contenido](#Contenido)"
   ]
  },
  {
   "cell_type": "markdown",
   "metadata": {},
   "source": [
    "> \n",
    "[`read.mtp {foreign}`](http://www.inside-r.org/r-doc/foreign/read.mtp)"
   ]
  },
  {
   "cell_type": "code",
   "execution_count": null,
   "metadata": {},
   "outputs": [],
   "source": [
    "library(foreign)\n",
    "# read.mpt('data/data.mtp')"
   ]
  },
  {
   "cell_type": "markdown",
   "metadata": {},
   "source": [
    "# PDF"
   ]
  },
  {
   "cell_type": "markdown",
   "metadata": {
    "collapsed": true
   },
   "source": [
    "[Contenido](#Contenido)"
   ]
  },
  {
   "cell_type": "markdown",
   "metadata": {},
   "source": [
    "> Para leer pdfs debe tener instalado el paquete tm (text mining). El paquete `tm` usa la función `pdftotext` del sistema Unix. Para instalarla (en Unix) use homebrew.\n",
    "```\n",
    "brew install poppler\n",
    "```"
   ]
  },
  {
   "cell_type": "code",
   "execution_count": null,
   "metadata": {},
   "outputs": [],
   "source": [
    "# Para este ejemplo se creó un archivo pdf que contiene el texto del ejemplo anterior.\n",
    "library(NLP)\n",
    "library(tm)\n",
    "pdf_reader <- readPDF(control = list(text = \"-layout\"))      # crea la función para leer el documento\n",
    "pdf_docs <- pdf_reader(elem = list(uri = 'files/data.pdf'),  # nombre del archivo\n",
    "                       language = \"en\")                      # idioma\n",
    "names(pdf_docs)"
   ]
  },
  {
   "cell_type": "code",
   "execution_count": null,
   "metadata": {},
   "outputs": [],
   "source": [
    "# metadatos\n",
    "pdf_docs$meta"
   ]
  },
  {
   "cell_type": "code",
   "execution_count": null,
   "metadata": {},
   "outputs": [],
   "source": [
    "# contenido\n",
    "pdf_docs$content"
   ]
  }
 ],
 "metadata": {
  "kernelspec": {
   "display_name": "R",
   "language": "R",
   "name": "ir"
  },
  "language_info": {
   "codemirror_mode": "r",
   "file_extension": ".r",
   "mimetype": "text/x-r-source",
   "name": "R",
   "pygments_lexer": "r",
   "version": "3.5.0"
  }
 },
 "nbformat": 4,
 "nbformat_minor": 1
}
