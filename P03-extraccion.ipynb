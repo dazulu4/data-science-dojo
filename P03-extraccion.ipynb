{
 "cells": [
  {
   "cell_type": "markdown",
   "metadata": {},
   "source": [
    "Extracción de datos\n",
    "==="
   ]
  },
  {
   "cell_type": "markdown",
   "metadata": {},
   "source": [
    "#### Contenido"
   ]
  },
  {
   "cell_type": "markdown",
   "metadata": {},
   "source": [
    "> * [Lectura y escritura de archivos con `open`](#Lectura-y-escritura-de-archivos-con-open)\n",
    "* [Lectura de archivos con la Python Standard Library](#Lectura-de-archivos-con-la-Python-Standard-Library)\n",
    "   * [Formato nativo de Python usando la PSL](#Formato-nativo-de-Python-usando-la-PSL)\n",
    "   * [TXT como formato libre usando la PSL](#TXT-como-formato-libre-usando-la-PSL)\n",
    "   * [TXT como tablas de texto delimitado usando la PSL](#TXT-como-tablas-de-texto-delimitado-usando-la-PSL)\n",
    "   * [JSON usando la PSL](#JSON-usando-la-PSL)\n",
    "* [Lectura y escritura de archivos usando Pandas](#Lectura-y-escritura-de-archivos-usando-Pandas)\n",
    "   * [Formato nativo de Python con Pandas](#Formato-nativo-de-Python-con-Pandas)\n",
    "   * [Archivos delimitados por caracteres con Pandas](#Archivos-delimitados-por-caracteres-con-Pandas)\n",
    "   * [TXT como tabla de texto con Pandas](#TXT-como-tabla-de-texto-con-Pandas)\n",
    "   * [Formato de ancho fijo con Pandas](#Formato-de-ancho-fijo-con-Pandas)\n",
    "   * [JSON con Pandas](#JSON-con-Pandas)\n",
    "   * [HTML con Pandas](#HTML-con-Pandas)\n",
    "   * [Excel con Pandas](#Excel-con-Pandas)\n",
    "   * [HDF5 con Pandas](#HDF5-con-Pandas)\n",
    "   * [STATA con Pandas](#STATA-con-Pandas)\n",
    "* [Lectura de PDFs](#Lectura-de-PDFs)\n",
    "* [Lectura de Matlab y Octave](#Lectura-de-Matlab-y-Octave)"
   ]
  },
  {
   "cell_type": "markdown",
   "metadata": {},
   "source": [
    "# Lectura y escritura de archivos con `open`"
   ]
  },
  {
   "cell_type": "markdown",
   "metadata": {},
   "source": [
    "[Contenido](#Contenido)"
   ]
  },
  {
   "cell_type": "markdown",
   "metadata": {},
   "source": [
    "> [`open`](https://docs.python.org/3/tutorial/inputoutput.html)\n"
   ]
  },
  {
   "cell_type": "markdown",
   "metadata": {},
   "source": [
    "La función `open(` _`filename`_ `,` _`mode`_ `)` permite abrir el archivo llamada _`filename`_; _`mode`_  es una cadena de texto que especifica la forma en que se habre el archivo asi: `'r'` para lectura, `'w'` para escritura (borra el contenido del archivo) y `'a'` para escribir al final (append); adicionalmente, se puede agregar `'b'` para indicar que el archivo se abre en modo binario (por defecto se abre en mdoeo texto). `open` devuelve un objeto que permite manipuar el archivo. "
   ]
  },
  {
   "cell_type": "code",
   "execution_count": null,
   "metadata": {},
   "outputs": [],
   "source": [
    "# abre el archivo, escribe y luego lo cierra.\n",
    "open('out.1', 'w').write('linea 1\\nlinea 2\\nlinea 3\\n') # retorna la cantidad de caracteres escritos"
   ]
  },
  {
   "cell_type": "code",
   "execution_count": null,
   "metadata": {},
   "outputs": [],
   "source": [
    "# abre el archivo, lee todo el contenido del archivo y luego lo cierra.\n",
    "open('out.1', 'r').read() "
   ]
  },
  {
   "cell_type": "markdown",
   "metadata": {},
   "source": [
    "En el siguiente ejemplo se ilustra como escribir en un archivo después de abrirlo."
   ]
  },
  {
   "cell_type": "code",
   "execution_count": null,
   "metadata": {},
   "outputs": [],
   "source": [
    "f = open('out.1', 'w') # abre el archivo para escritura\n",
    "\n",
    "# impresión de varias lineas en un solo print \n",
    "print(\"linea 1\", \"linea 2\", \"linea 3\", sep='\\n', file=f) \n",
    "\n",
    "# impresión de una línea por print\n",
    "print(\"linea 4\", file=f)   \n",
    "print(\"linea 5\", file=f)\n",
    "print(\"linea 6\", file=f)\n",
    "\n",
    "# impresión usando write\n",
    "f.write('linea 7')\n",
    "\n",
    "# cierra el archivo\n",
    "f.close()"
   ]
  },
  {
   "cell_type": "code",
   "execution_count": null,
   "metadata": {},
   "outputs": [],
   "source": [
    "open('out.1', 'r').read()"
   ]
  },
  {
   "cell_type": "code",
   "execution_count": null,
   "metadata": {},
   "outputs": [],
   "source": [
    "# impresión con formato del contenido de un archivo.\n",
    "print(open('out.1', 'r').read())"
   ]
  },
  {
   "cell_type": "code",
   "execution_count": null,
   "metadata": {},
   "outputs": [],
   "source": [
    "# forma alternativa para leer el contenido de un archivo línea a línea.\n",
    "f = open('out.1', 'r')\n",
    "f.readline() # lee la primera línea."
   ]
  },
  {
   "cell_type": "code",
   "execution_count": null,
   "metadata": {},
   "outputs": [],
   "source": [
    "f.readline() # lee la segunda línea."
   ]
  },
  {
   "cell_type": "code",
   "execution_count": null,
   "metadata": {},
   "outputs": [],
   "source": [
    "f.readline() # lee la tercera línea.\n",
    "# y así sucesivamente hasta alcanzar el final del archivo"
   ]
  },
  {
   "cell_type": "code",
   "execution_count": null,
   "metadata": {},
   "outputs": [],
   "source": [
    "f.close() # cierra el archivo."
   ]
  },
  {
   "cell_type": "markdown",
   "metadata": {},
   "source": [
    "Se almacena un texto en una variable."
   ]
  },
  {
   "cell_type": "code",
   "execution_count": null,
   "metadata": {},
   "outputs": [],
   "source": [
    "txt = '''R is a programming language and software environment for statistical computing \n",
    "and graphics supported by the R Foundation for Statistical Computing.[3] The R language \n",
    "is widely used among statisticians and data miners for developing statistical software[4] \n",
    "and data analysis.[5] Polls, surveys of data miners, and studies of scholarly literature \n",
    "databases show that R's popularity has increased substantially in recent years.[6]\n",
    "'''"
   ]
  },
  {
   "cell_type": "code",
   "execution_count": null,
   "metadata": {
    "scrolled": true
   },
   "outputs": [],
   "source": [
    "print(txt)"
   ]
  },
  {
   "cell_type": "markdown",
   "metadata": {},
   "source": [
    "Se escribe el contenido de la variable en el archivo."
   ]
  },
  {
   "cell_type": "code",
   "execution_count": null,
   "metadata": {},
   "outputs": [],
   "source": [
    "## escribe el archivo en disco\n",
    "open('files/wikipedia.txt', 'w').write(txt) "
   ]
  },
  {
   "cell_type": "markdown",
   "metadata": {},
   "source": [
    "**Ejercicio.** Imprima la primera línea del archivo `customers`."
   ]
  },
  {
   "cell_type": "markdown",
   "metadata": {},
   "source": [
    "En el siguiente ejemplo se ilustra como usar un ciclo `for` para leer el contenido de un archivo."
   ]
  },
  {
   "cell_type": "code",
   "execution_count": null,
   "metadata": {},
   "outputs": [],
   "source": [
    "f = open('out.1', 'r')\n",
    "for line in f:\n",
    "    print(line, end='')\n",
    "f.close()"
   ]
  },
  {
   "cell_type": "code",
   "execution_count": null,
   "metadata": {},
   "outputs": [],
   "source": [
    "# forma alternativa \n",
    "with open('out.1', 'r') as f:\n",
    "    print(f.read(), end='')    # el archivo se cierra al salir del bloque `with`\n",
    "\n",
    "f.closed # es una función que devuelve `True` cuando el archivo está cerrado. \n"
   ]
  },
  {
   "cell_type": "markdown",
   "metadata": {
    "collapsed": true
   },
   "source": [
    "En los siguientes ejemplo se leen las líneas del archivo y se almacenan en una lista. Esto permite manipular facilmente el contenido de un archivo a traves de las funciones para manejar listas, tal como se ilustra seguidamente."
   ]
  },
  {
   "cell_type": "code",
   "execution_count": null,
   "metadata": {},
   "outputs": [],
   "source": [
    "f = open('out.1', 'r')\n",
    "x = list(f)\n",
    "f.close()\n",
    "x  # note que aparece el retorno de carro '\\n' al final de cada línea"
   ]
  },
  {
   "cell_type": "code",
   "execution_count": null,
   "metadata": {},
   "outputs": [],
   "source": [
    "# se imprimen únicamente las tres primeras líneas del archivo\n",
    "print(x[0:3])"
   ]
  },
  {
   "cell_type": "code",
   "execution_count": null,
   "metadata": {},
   "outputs": [],
   "source": [
    "# mejor\n",
    "for z in x[0:3]:\n",
    "    print(z, end = '')"
   ]
  },
  {
   "cell_type": "code",
   "execution_count": null,
   "metadata": {},
   "outputs": [],
   "source": [
    "# se imprimen únicamente las tres últimas líneas del archivo\n",
    "print(x[-3:])"
   ]
  },
  {
   "cell_type": "code",
   "execution_count": null,
   "metadata": {},
   "outputs": [],
   "source": [
    "# mejor\n",
    "for z in x[-3:]:\n",
    "    print(z, end = '')"
   ]
  },
  {
   "cell_type": "code",
   "execution_count": null,
   "metadata": {},
   "outputs": [],
   "source": [
    "# se imprime todo el contenido del archivo, excepto las primeras tres lineas\n",
    "# mejor\n",
    "for z in x[3:]:\n",
    "    print(z, end = '')"
   ]
  },
  {
   "cell_type": "markdown",
   "metadata": {},
   "source": [
    "La manipulación de las líneas de un archivo permite hacer operaciones más complejas como concatenar archivos."
   ]
  },
  {
   "cell_type": "markdown",
   "metadata": {},
   "source": [
    "El comando `cat` en los sistemas Unix permite la impresión de un conjunto de archivos de texto uno después de otro, tal que se puede usar para concaternar archivos. Por ejemplo,\n",
    "\n",
    "```bash\n",
    "      $ cat out.1 out.1\n",
    "      linea 1\n",
    "      linea 2\n",
    "      linea 3\n",
    "      linea 4\n",
    "      liena 5\n",
    "      linea 6\n",
    "      linea 7\n",
    "      linea 1\n",
    "      linea 2\n",
    "      linea 3\n",
    "      linea 4\n",
    "      liena 5\n",
    "      linea 6\n",
    "      linea 7\n",
    "```\n",
    "\n",
    "El siguiente código permite hacer lo mismo.      "
   ]
  },
  {
   "cell_type": "code",
   "execution_count": null,
   "metadata": {
    "scrolled": true
   },
   "outputs": [],
   "source": [
    "# abre el archivo 'out.1', lo lee y luego lo cierra\n",
    "a =  open('out.1').readlines()  \n",
    "\n",
    "# abre nuevamente el archivo 'out.1', lo lee y luego lo cierra\n",
    "a += open('out.1').readlines()  \n",
    "\n",
    "# se crea una nueva lista `z` que contiene las mismas cadenas de \n",
    "# caracteres de `a` pero eliminando los retornos de carro '\\n' \n",
    "\n",
    "z = []\n",
    "for x in a:\n",
    "    if x[-1] == '\\n':\n",
    "        z.append(x[:-1])\n",
    "    else:\n",
    "        z.append(x) \n",
    "    \n",
    "# se imprime con formato usando un ciclo `for`.\n",
    "for x in z:\n",
    "    print(x, end = '\\n')"
   ]
  },
  {
   "cell_type": "markdown",
   "metadata": {},
   "source": [
    "**Ejercicio.** Algunos sistemas Unix tienen el comando `tac` (reverso de `cat`) el cual imprime el contenido de un archivo en inverso, es decir, empezando por la última línea. Implemente esta función en Python."
   ]
  },
  {
   "cell_type": "markdown",
   "metadata": {},
   "source": [
    "**Ejercicio.** En Unix, el comando `rev` imprime el contenido de un archivo invirtiendo el orden de los caracteres de cada línea. Por ejemplo, si el archivo contiene las lineas `1234` y `abcd`, `rev` imprime `4321` y `dcba`. Implemente esta función en Python."
   ]
  },
  {
   "cell_type": "markdown",
   "metadata": {},
   "source": [
    "A continuación se presenta como implementar la funcionalidad del comando `wc` de Unix."
   ]
  },
  {
   "cell_type": "code",
   "execution_count": null,
   "metadata": {},
   "outputs": [],
   "source": [
    "# se cuentan las líneas de un archivo\n",
    "len(open('out.1','r').readlines())"
   ]
  },
  {
   "cell_type": "code",
   "execution_count": null,
   "metadata": {},
   "outputs": [],
   "source": [
    "# se cuentan las palabras que tiene un archivo\n",
    "x = open('out.1','r').readlines()\n",
    "y = ' '.join(x)\n",
    "len(y.split(' '))"
   ]
  },
  {
   "cell_type": "code",
   "execution_count": null,
   "metadata": {},
   "outputs": [],
   "source": [
    "# se cuentan los caracteres que contiene un archivo\n",
    "x = open('out.1','r').readlines()\n",
    "x = ''.join(x)\n",
    "len(x)"
   ]
  },
  {
   "cell_type": "markdown",
   "metadata": {},
   "source": [
    "Una de las principales tareas en ciencia de los datos, es la lectura de tablas de datos para su manipulación posterior. Para generar los datos de prueba se usa el *cellmagic* `%%bash` el cual indica que el contenido de la celda debe ejecutarse en la línea de comandos de Unix."
   ]
  },
  {
   "cell_type": "code",
   "execution_count": null,
   "metadata": {},
   "outputs": [],
   "source": [
    "%%bash\n",
    "cat > out.1 <<EOF\n",
    "Date, Year, CustomerID, Value\n",
    "2013-01-12, 2013, 1, 100\n",
    "2014-05-12, 2014, 1, 100\n",
    "2013-02-25, 2013, 2, 200\n",
    "2013-04-04, 2013, 1, 100\n",
    "2013-06-21, 2013, 2, 200\n",
    "2014-05-18, 2014, 1, 100\n",
    "2014-06-23, 2014, 2, 200\n",
    "2013-02-28, 2013, 1, 100\n",
    "2013-08-02, 2013, 1, 100\n",
    "EOF"
   ]
  },
  {
   "cell_type": "markdown",
   "metadata": {},
   "source": [
    "Seguidamente se carga el archivo (cada línea del archivo es almacenada como un string):"
   ]
  },
  {
   "cell_type": "code",
   "execution_count": null,
   "metadata": {},
   "outputs": [],
   "source": [
    "x = open('out.1','r').readlines()\n",
    "x"
   ]
  },
  {
   "cell_type": "markdown",
   "metadata": {},
   "source": [
    "Se remueven los retornos de carro ('`\\n`') usando una *list comprenhension*."
   ]
  },
  {
   "cell_type": "code",
   "execution_count": null,
   "metadata": {},
   "outputs": [],
   "source": [
    "x = [z.replace('\\n', '') for z in x]\n",
    "x"
   ]
  },
  {
   "cell_type": "markdown",
   "metadata": {},
   "source": [
    "Se usan los delimitadores para separar los campos."
   ]
  },
  {
   "cell_type": "code",
   "execution_count": null,
   "metadata": {},
   "outputs": [],
   "source": [
    "x = [z.split(',') for z in x]\n",
    "x"
   ]
  },
  {
   "cell_type": "markdown",
   "metadata": {},
   "source": [
    "Cada registro es almacenado como una lista."
   ]
  },
  {
   "cell_type": "markdown",
   "metadata": {},
   "source": [
    "Ahora, por ejemplo, se agregará el campo `Month` extrayendo el mes del campo `Date`. El proceso se realizará incrementalmente para facilitar su visualización."
   ]
  },
  {
   "cell_type": "code",
   "execution_count": null,
   "metadata": {},
   "outputs": [],
   "source": [
    "# extrae el campo Date\n",
    "[z[0] for z in x[1:]] "
   ]
  },
  {
   "cell_type": "code",
   "execution_count": null,
   "metadata": {},
   "outputs": [],
   "source": [
    "# separa Date en sus partes\n",
    "[z[0].split('-') for z in x[1:]] "
   ]
  },
  {
   "cell_type": "code",
   "execution_count": null,
   "metadata": {},
   "outputs": [],
   "source": [
    "# el mes ocupa la posicion 1\n",
    "[z[0].split('-')[1] for z in x[1:]] # el mes"
   ]
  },
  {
   "cell_type": "markdown",
   "metadata": {},
   "source": [
    "Pega el mes al final de la lista"
   ]
  },
  {
   "cell_type": "code",
   "execution_count": null,
   "metadata": {
    "scrolled": true
   },
   "outputs": [],
   "source": [
    "x[1:] = [z+[z[0].split('-')[1]] for z in x[1:]] \n",
    "x"
   ]
  },
  {
   "cell_type": "markdown",
   "metadata": {},
   "source": [
    "Agrega el nombre del campo y los compoentes"
   ]
  },
  {
   "cell_type": "code",
   "execution_count": null,
   "metadata": {
    "scrolled": true
   },
   "outputs": [],
   "source": [
    "x[0].append('Month')\n",
    "x"
   ]
  },
  {
   "cell_type": "markdown",
   "metadata": {},
   "source": [
    "También resulta muy simple la aplicación de filtros para seleccionar solo una porción de los datos. Por ejemplo, para obtener únicamente los registros del año 2013:"
   ]
  },
  {
   "cell_type": "code",
   "execution_count": null,
   "metadata": {},
   "outputs": [],
   "source": [
    "[z for z in x if z[1] == ' 2013']"
   ]
  },
  {
   "cell_type": "markdown",
   "metadata": {},
   "source": [
    "**Ejercicio.** Imprima un listado de valores únicos para el campo `City` del archivo `files/customer`."
   ]
  },
  {
   "cell_type": "markdown",
   "metadata": {},
   "source": [
    "**Ejercicio.** Agregue el campo `subtotal` a la tabla `orderline` el cual es calculado como `Quantity` por `Price`."
   ]
  },
  {
   "cell_type": "markdown",
   "metadata": {},
   "source": [
    "**Ejercicio.** Agregue el campo `ProductName` a la tabla `orderline`."
   ]
  },
  {
   "cell_type": "markdown",
   "metadata": {},
   "source": [
    "**Ejercicio.** Agregue el campo `Total` a la tabla `order`. Este campo se calcula como la suma de `ProductID` * `Price` para cada `OrderID` en la tabla `orderline`."
   ]
  },
  {
   "cell_type": "markdown",
   "metadata": {},
   "source": [
    "**Ejercicio.** Escriba una función que implemente la funcionaldad del comando `sort` del `bash`. \n",
    "* Recibe el nombre de un archivo.\n",
    "* Lo lee del disco duro.\n",
    "* Tiene un parámetros que le indica si es orden ascendente o descendente.\n",
    "* Imprime el archivo ordenado en pantalla (podría ser al disco duro si se desea emular toda la funcionalidad de sort)."
   ]
  },
  {
   "cell_type": "markdown",
   "metadata": {},
   "source": [
    "**Ejercicio.** Modifique el programa anterior para poder indicar el número del campo (o campos) a partir de los cuales se realizará el ordenamiento."
   ]
  },
  {
   "cell_type": "markdown",
   "metadata": {},
   "source": [
    "**Ejercicio.** Escriba una función que implemente la funcionaldad del comando `uniq` del `bash`. \n",
    "* Recibe el nombre de un archivo.\n",
    "* Lo lee del disco duro.\n",
    "* Elimina líneas consecutivas iguales.\n",
    "* Imprime el resultado en la pantalla."
   ]
  },
  {
   "cell_type": "markdown",
   "metadata": {},
   "source": [
    "**Ejercicio.** Escriba una función que implemente la funcionaldad del comando `join` del `bash`. \n",
    "* Recibe el nombre de dos archivos.\n",
    "* Suponga que la primera columna de cada archivo contiene la clave a partir de la cual se hará el `join`.\n",
    "* Imprima el resultado en pantalla."
   ]
  },
  {
   "cell_type": "markdown",
   "metadata": {},
   "source": [
    "**Ejercicio.** Escriba una función que implemente la funcionaldad del comando `paste` del `bash`. \n",
    "* Recibe el nombre de dos archivos.\n",
    "* Imprima el resultado en pantalla."
   ]
  },
  {
   "cell_type": "markdown",
   "metadata": {},
   "source": [
    "# Lectura de archivos con la Python Standard Library"
   ]
  },
  {
   "cell_type": "markdown",
   "metadata": {},
   "source": [
    "[Contenido](#Contenido)"
   ]
  },
  {
   "cell_type": "markdown",
   "metadata": {},
   "source": [
    "Se crea una tabla para los realizar los ejemplos."
   ]
  },
  {
   "cell_type": "code",
   "execution_count": null,
   "metadata": {},
   "outputs": [],
   "source": [
    "## crea la tabla de datos de prueba.\n",
    "## cada fila es un vector\n",
    "df = [[\"index\", \"name\", \"value\"],\n",
    "      [1, \"A\", 3.03],\n",
    "      [2, \"B\", 5.14],\n",
    "      [3, \"C\", 0.40],\n",
    "      [4, \"D\", 1.13],\n",
    "      [5, \"E\", 8.25]]\n",
    "df"
   ]
  },
  {
   "cell_type": "markdown",
   "metadata": {},
   "source": [
    "## Formato nativo de Python usando la PSL"
   ]
  },
  {
   "cell_type": "markdown",
   "metadata": {},
   "source": [
    "[Contenido](#Contenido)"
   ]
  },
  {
   "cell_type": "markdown",
   "metadata": {},
   "source": [
    "> [`pickle`](https://docs.python.org/3/library/pickle.html#module-pickle)  "
   ]
  },
  {
   "cell_type": "code",
   "execution_count": null,
   "metadata": {},
   "outputs": [],
   "source": [
    "## carga la librería\n",
    "import pickle"
   ]
  },
  {
   "cell_type": "code",
   "execution_count": null,
   "metadata": {},
   "outputs": [],
   "source": [
    "## salva el objeto en el disco\n",
    "with open('files/data.pickle', 'wb') as f:\n",
    "    pickle.dump(obj = df, file = f)"
   ]
  },
  {
   "cell_type": "code",
   "execution_count": null,
   "metadata": {},
   "outputs": [],
   "source": [
    "## borra la variable x\n",
    "del df"
   ]
  },
  {
   "cell_type": "code",
   "execution_count": null,
   "metadata": {},
   "outputs": [],
   "source": [
    "whos"
   ]
  },
  {
   "cell_type": "code",
   "execution_count": null,
   "metadata": {},
   "outputs": [],
   "source": [
    "## recupera el objeto del disco\n",
    "with open('files/data.pickle', 'rb') as f:\n",
    "    df = pickle.load(f)\n",
    "    \n",
    "print(df)"
   ]
  },
  {
   "cell_type": "markdown",
   "metadata": {},
   "source": [
    "## TXT como formato libre usando la PSL"
   ]
  },
  {
   "cell_type": "markdown",
   "metadata": {},
   "source": [
    "[Contenido](#Contenido)"
   ]
  },
  {
   "cell_type": "markdown",
   "metadata": {},
   "source": [
    "> [`open`](https://docs.python.org/3/tutorial/inputoutput.html)"
   ]
  },
  {
   "cell_type": "code",
   "execution_count": null,
   "metadata": {},
   "outputs": [],
   "source": [
    "## lee el archivo de disco\n",
    "x = open('files/wikipedia.txt', 'r').read()\n",
    "x"
   ]
  },
  {
   "cell_type": "code",
   "execution_count": null,
   "metadata": {},
   "outputs": [],
   "source": [
    "## divide el texto en palabras.\n",
    "x.split()"
   ]
  },
  {
   "cell_type": "code",
   "execution_count": null,
   "metadata": {},
   "outputs": [],
   "source": [
    "## divide el texto en líneas\n",
    "x.split('\\n')"
   ]
  },
  {
   "cell_type": "code",
   "execution_count": null,
   "metadata": {},
   "outputs": [],
   "source": [
    "## separa el texto por '.'\n",
    "x.split('.')   "
   ]
  },
  {
   "cell_type": "markdown",
   "metadata": {},
   "source": [
    "## TXT como tablas de texto delimitado usando la PSL"
   ]
  },
  {
   "cell_type": "markdown",
   "metadata": {},
   "source": [
    "[Contenido](#Contenido)"
   ]
  },
  {
   "cell_type": "markdown",
   "metadata": {},
   "source": [
    "> [`csv`](https://docs.python.org/3.5/library/csv.html)"
   ]
  },
  {
   "cell_type": "markdown",
   "metadata": {},
   "source": [
    "En esta sección se aborda la lectura de archivos delimitados por caracteres. Los delimitadores incluyen el espacio en blanco, la coma y el punto y coma. El parámetro `delimiter` permite especificar el caracter delimitador, mientrasq que el parámetro `quoting` permite especificar los delimitadores para los strings."
   ]
  },
  {
   "cell_type": "code",
   "execution_count": null,
   "metadata": {},
   "outputs": [],
   "source": [
    "## importa la librería\n",
    "import csv"
   ]
  },
  {
   "cell_type": "markdown",
   "metadata": {},
   "source": [
    "**Archivos delimitados por espacios**"
   ]
  },
  {
   "cell_type": "code",
   "execution_count": null,
   "metadata": {},
   "outputs": [],
   "source": [
    "## escribe el archivo en forma de tabla de texto\n",
    "with open('files/data.txt', 'w') as f:             # abre el archivo para escritura\n",
    "    x = csv.writer(f,                              # crea el objeto x\n",
    "                   delimiter=' ',                  # delimitado por ' '\n",
    "                   quoting=csv.QUOTE_NONNUMERIC)   # sin \" \" para los strings\n",
    "    for r in df:\n",
    "        x.writerow(r)"
   ]
  },
  {
   "cell_type": "markdown",
   "metadata": {},
   "source": [
    "Note que los strings están entre comillas."
   ]
  },
  {
   "cell_type": "code",
   "execution_count": null,
   "metadata": {},
   "outputs": [],
   "source": [
    "## verifica el archivo creado\n",
    "print(open('files/data.txt', 'r').read())"
   ]
  },
  {
   "cell_type": "code",
   "execution_count": null,
   "metadata": {},
   "outputs": [],
   "source": [
    "## Lee el archivo como una tabla de texto\n",
    "with open('files/data.txt', 'r') as f:  \n",
    "     x = csv.reader(f, \n",
    "                    delimiter=' ', \n",
    "                    quoting=csv.QUOTE_NONNUMERIC) \n",
    "     for r in x:\n",
    "        print(r)"
   ]
  },
  {
   "cell_type": "markdown",
   "metadata": {},
   "source": [
    "**Archivos delimitados por comas (CSV)**"
   ]
  },
  {
   "cell_type": "markdown",
   "metadata": {},
   "source": [
    "[Contenido](#Contenido)"
   ]
  },
  {
   "cell_type": "markdown",
   "metadata": {},
   "source": [
    "> [`csv`](https://docs.python.org/3.5/library/csv.html)"
   ]
  },
  {
   "cell_type": "code",
   "execution_count": null,
   "metadata": {},
   "outputs": [],
   "source": [
    "with open('files/data.csv', 'w') as f:\n",
    "    x = csv.writer(f, \n",
    "                   delimiter = ',',\n",
    "                   quoting=csv.QUOTE_NONNUMERIC)\n",
    "    for r in df:\n",
    "        x.writerow(r)\n",
    "    \n",
    "## verifica el archivo creado\n",
    "print(open('files/data.csv', 'r').read())"
   ]
  },
  {
   "cell_type": "code",
   "execution_count": null,
   "metadata": {
    "scrolled": true
   },
   "outputs": [],
   "source": [
    "## lee el archivo csv \n",
    "with open('files/data.csv', 'r') as f:\n",
    "     x = csv.reader(f, \n",
    "                    delimiter=',', \n",
    "                    quoting=csv.QUOTE_NONNUMERIC)\n",
    "     for r in x:\n",
    "        print(r)"
   ]
  },
  {
   "cell_type": "markdown",
   "metadata": {},
   "source": [
    "**Ejercicio.** Escriba una función que permita convertir un archivo de formato csv a csv2 (español)."
   ]
  },
  {
   "cell_type": "markdown",
   "metadata": {},
   "source": [
    "**Ejercicio.** Escriba una función que permita leer un archivo `csv` y lo convierta a formato de ancho fijo."
   ]
  },
  {
   "cell_type": "markdown",
   "metadata": {},
   "source": [
    "## JSON usando la PSL"
   ]
  },
  {
   "cell_type": "markdown",
   "metadata": {},
   "source": [
    "[Contenido](#Contenido)"
   ]
  },
  {
   "cell_type": "markdown",
   "metadata": {},
   "source": [
    "> [`json`](https://docs.python.org/3/library/json.html#module-json)  "
   ]
  },
  {
   "cell_type": "code",
   "execution_count": null,
   "metadata": {},
   "outputs": [],
   "source": [
    "## importa la libreria\n",
    "import json\n",
    "\n",
    "## convierte los datos en string\n",
    "json.dumps(df)"
   ]
  },
  {
   "cell_type": "code",
   "execution_count": null,
   "metadata": {},
   "outputs": [],
   "source": [
    "## mismo caso anterior pero con impresion 'bonita'\n",
    "json.dumps(df, \n",
    "           sort_keys = True, \n",
    "           indent = 4)"
   ]
  },
  {
   "cell_type": "code",
   "execution_count": null,
   "metadata": {},
   "outputs": [],
   "source": [
    "y = json.dumps(df, \n",
    "               sort_keys = True, \n",
    "               indent = 4)\n",
    "print(y)"
   ]
  },
  {
   "cell_type": "code",
   "execution_count": null,
   "metadata": {},
   "outputs": [],
   "source": [
    "## convierte el string en datos\n",
    "json.loads(y)"
   ]
  },
  {
   "cell_type": "code",
   "execution_count": null,
   "metadata": {},
   "outputs": [],
   "source": [
    "## convierte los datos en string y\n",
    "## los guarda en un archivo \n",
    "with open('files/data.json', 'w') as f:\n",
    "    json.dump(obj = df,   # datos \n",
    "              fp = f)     # archivo"
   ]
  },
  {
   "cell_type": "code",
   "execution_count": null,
   "metadata": {},
   "outputs": [],
   "source": [
    "## recupera los datos desde el archivo\n",
    "with open('files/data.json', 'r') as f:\n",
    "    x = json.load(fp = f)\n",
    "x"
   ]
  },
  {
   "cell_type": "markdown",
   "metadata": {},
   "source": [
    "# Lectura y escritura de archivos usando Pandas"
   ]
  },
  {
   "cell_type": "markdown",
   "metadata": {},
   "source": [
    "[Contenido](#Contenido)"
   ]
  },
  {
   "cell_type": "code",
   "execution_count": null,
   "metadata": {},
   "outputs": [],
   "source": [
    "import pandas\n",
    "\n",
    "## salida de texto\n",
    "pandas.set_option('display.notebook_repr_html', False)"
   ]
  },
  {
   "cell_type": "markdown",
   "metadata": {},
   "source": [
    "**Datos de ejemplo**.  \n",
    "> [`pandas.DataFrame`](http://pandas.pydata.org/pandas-docs/stable/generated/pandas.DataFrame.html) "
   ]
  },
  {
   "cell_type": "code",
   "execution_count": null,
   "metadata": {},
   "outputs": [],
   "source": [
    "## crea el DataFrame\n",
    "## los DataFrame en Pandas son diccionarios\n",
    "df = pandas.DataFrame( {'index': list(range(1,6)),\n",
    "                        'name': ['A', 'B', 'C', 'D', 'E'],\n",
    "                        'value': [3.03, 5.14, 0.40, 1.13, 8.25]})"
   ]
  },
  {
   "cell_type": "markdown",
   "metadata": {},
   "source": [
    "## Formato nativo de Python con Pandas"
   ]
  },
  {
   "cell_type": "markdown",
   "metadata": {},
   "source": [
    "[Contenido](#Contenido)"
   ]
  },
  {
   "cell_type": "markdown",
   "metadata": {},
   "source": [
    "> [`pandas.DataFrame`](http://pandas.pydata.org/pandas-docs/stable/generated/pandas.DataFrame.html)  \n",
    "[`pandas.DataFrame.to_pickle`](http://pandas.pydata.org/pandas-docs/stable/generated/pandas.DataFrame.to_pickle.html)  \n",
    "[`pandas.to_pickle`](http://pandas.pydata.org/pandas-docs/stable/io.html#io-pickle)  \n",
    "[`pandas.read_pickle`](http://pandas.pydata.org/pandas-docs/stable/io.html#io-pickle)"
   ]
  },
  {
   "cell_type": "code",
   "execution_count": null,
   "metadata": {},
   "outputs": [],
   "source": [
    "## pandas.DataFrame\n",
    "df.to_pickle('files/data.pickle')"
   ]
  },
  {
   "cell_type": "code",
   "execution_count": null,
   "metadata": {},
   "outputs": [],
   "source": [
    "pandas.read_pickle('files/data.pickle')"
   ]
  },
  {
   "cell_type": "markdown",
   "metadata": {},
   "source": [
    "## Archivos delimitados por caracteres con Pandas"
   ]
  },
  {
   "cell_type": "markdown",
   "metadata": {},
   "source": [
    "[Contenido](#Contenido)"
   ]
  },
  {
   "cell_type": "markdown",
   "metadata": {},
   "source": [
    "> [`pandas.DataFrame.to_csv`](http://pandas.pydata.org/pandas-docs/stable/generated/pandas.DataFrame.to_csv.html)  \n",
    "[`pandas.DataFrame.from_csv`](http://pandas.pydata.org/pandas-docs/stable/generated/pandas.DataFrame.from_csv.html)  \n",
    "[`pandas.to_csv`](http://pandas.pydata.org/pandas-docs/stable/io.html#io-store-in-csv)  \n",
    "[`pandas.read_csv`](http://pandas.pydata.org/pandas-docs/stable/io.html#io-read-csv-table)"
   ]
  },
  {
   "cell_type": "code",
   "execution_count": null,
   "metadata": {},
   "outputs": [],
   "source": [
    "## escribe el archivo\n",
    "df.to_csv('files/data.csv',   # el nombre del archivo\n",
    "          index = False)      # imprime los nombres de las filas?\n",
    "\n",
    "## verifica el archivo creado\n",
    "print(open('files/data.csv', 'r').read())"
   ]
  },
  {
   "cell_type": "code",
   "execution_count": null,
   "metadata": {},
   "outputs": [],
   "source": [
    "pandas.read_csv('files/data.csv')"
   ]
  },
  {
   "cell_type": "code",
   "execution_count": null,
   "metadata": {},
   "outputs": [],
   "source": [
    "## opciones mas importantes\n",
    "pandas.read_csv('files/data.csv',  # el archivo\n",
    "                    sep = ',',         # separador de campos\n",
    "                    thousands = None,  # separador de miles para números\n",
    "                    decimal = '.')     # separador de los decimales para números\n"
   ]
  },
  {
   "cell_type": "markdown",
   "metadata": {},
   "source": [
    "En español: ';' como separador de campos y ',' como separador decimal. "
   ]
  },
  {
   "cell_type": "code",
   "execution_count": null,
   "metadata": {},
   "outputs": [],
   "source": [
    "## escribe el archivo\n",
    "df.to_csv('files/data.csv2',     # nombre del archivo\n",
    "           sep = ';',            # separador de campos\n",
    "           decimal = ',',        # caracter decimal\n",
    "           index = False)        # imprime indice de las filas?\n",
    "\n",
    "## verifica el archivo creado\n",
    "print(open('files/data.csv2', 'r').read())"
   ]
  },
  {
   "cell_type": "code",
   "execution_count": null,
   "metadata": {},
   "outputs": [],
   "source": [
    "## lee el archivo\n",
    "pandas.read_csv('files/data.csv2',\n",
    "                 sep = ';',\n",
    "                 thousands = None,\n",
    "                 decimal = ',')"
   ]
  },
  {
   "cell_type": "markdown",
   "metadata": {},
   "source": [
    "## TXT como tabla de texto con Pandas"
   ]
  },
  {
   "cell_type": "markdown",
   "metadata": {},
   "source": [
    "[Contenido](#Contenido)"
   ]
  },
  {
   "cell_type": "markdown",
   "metadata": {},
   "source": [
    "> [`pandas.read_table`](http://pandas.pydata.org/pandas-docs/stable/generated/pandas.read_table.html#pandas.read_table)"
   ]
  },
  {
   "cell_type": "code",
   "execution_count": null,
   "metadata": {},
   "outputs": [],
   "source": [
    "## escribe el archivo\n",
    "df.to_csv('files/data.txt',     # nombre del archivo\n",
    "          sep = ' ',            # separador de campos\n",
    "          decimal = '.',        # caracter decimal\n",
    "          index = False)        # imprime indice de las filas?\n",
    "\n",
    "## verifica el archivo creado\n",
    "print(open('files/data.txt', 'r').read())"
   ]
  },
  {
   "cell_type": "code",
   "execution_count": null,
   "metadata": {},
   "outputs": [],
   "source": [
    "# lee el archivo del disco\n",
    "pandas.read_table('files/data.txt',\n",
    "                   sep = ' ',\n",
    "                   decimal = '.',\n",
    "                   thousands = None)"
   ]
  },
  {
   "cell_type": "markdown",
   "metadata": {},
   "source": [
    "## Formato de ancho fijo con Pandas"
   ]
  },
  {
   "cell_type": "markdown",
   "metadata": {},
   "source": [
    "[Contenido](#Contenido)"
   ]
  },
  {
   "cell_type": "markdown",
   "metadata": {},
   "source": [
    "> [`pandas.read_fwf`](http://pandas.pydata.org/pandas-docs/stable/generated/pandas.read_fwf.html)"
   ]
  },
  {
   "cell_type": "code",
   "execution_count": null,
   "metadata": {},
   "outputs": [],
   "source": [
    "# crea un archivo separado por multiples espacios en blanco.\n",
    "# los nombres de las columnas están separados por comas.\n",
    "text = \"\"\"indexnames      valuescodes\n",
    "    1john wick    2.13   10\n",
    "    2mark twin    3.14   11\n",
    "    3louis ng     4.34   12\n",
    "    4dan brown    2.31   13\n",
    "    5ann marie    4.98   14\"\"\"\n",
    "\n",
    "with open('files/data.txt', 'w') as f:\n",
    "    f.write(text)\n",
    "    \n",
    "## verifica el archivo creado\n",
    "print(open('files/data.txt', 'r').read())"
   ]
  },
  {
   "cell_type": "code",
   "execution_count": null,
   "metadata": {},
   "outputs": [],
   "source": [
    "pandas.read_fwf('files/data.txt', \n",
    "                colspecs = 'infer', \n",
    "                widths = [5, 9, 8, 5])"
   ]
  },
  {
   "cell_type": "markdown",
   "metadata": {},
   "source": [
    "## JSON con Pandas"
   ]
  },
  {
   "cell_type": "markdown",
   "metadata": {},
   "source": [
    "[Contenido](#Contenido)"
   ]
  },
  {
   "cell_type": "markdown",
   "metadata": {},
   "source": [
    "> [`pandas.DataFrame.to_json`](http://pandas.pydata.org/pandas-docs/stable/generated/pandas.DataFrame.to_json.html)  \n",
    "[`pandas.to_json`](http://pandas.pydata.org/pandas-docs/stable/io.html#io-json-writer)  \n",
    "[`pandas.read_json`](http://pandas.pydata.org/pandas-docs/stable/io.html#io-json-reader)  \n",
    "\n",
    "> `JSON` en [wikipedia](https://en.wikipedia.org/wiki/JSON)"
   ]
  },
  {
   "cell_type": "code",
   "execution_count": null,
   "metadata": {},
   "outputs": [],
   "source": [
    "## escribe el DataFrame al archivo\n",
    "df.to_json('files/data.json')\n",
    "\n",
    "## verifica el archivo creado\n",
    "print(open('files/data.json', 'r').read())"
   ]
  },
  {
   "cell_type": "code",
   "execution_count": null,
   "metadata": {},
   "outputs": [],
   "source": [
    "## lo recupera \n",
    "pandas.read_json('files/data.json')"
   ]
  },
  {
   "cell_type": "markdown",
   "metadata": {},
   "source": [
    "## HTML con Pandas"
   ]
  },
  {
   "cell_type": "markdown",
   "metadata": {},
   "source": [
    "[Contenido](#Contenido)"
   ]
  },
  {
   "cell_type": "markdown",
   "metadata": {},
   "source": [
    "> [`pandas.DataFrame.to_html`](http://pandas.pydata.org/pandas-docs/stable/generated/pandas.DataFrame.to_html.html)   \n",
    "[`pandas.to_html`](http://pandas.pydata.org/pandas-docs/stable/io.html#io-html)  \n",
    "[`pandas.read_html`](http://pandas.pydata.org/pandas-docs/stable/io.html#io-read-html) "
   ]
  },
  {
   "cell_type": "code",
   "execution_count": null,
   "metadata": {},
   "outputs": [],
   "source": [
    "## convierte el DataFrame a HTML\n",
    "df.to_html('files/data.html',\n",
    "           index = False)\n",
    "\n",
    "## verifica el archivo creado\n",
    "print(open('files/data.html', 'r').read())"
   ]
  },
  {
   "cell_type": "code",
   "execution_count": null,
   "metadata": {},
   "outputs": [],
   "source": [
    "pandas.read_html('files/data.html')"
   ]
  },
  {
   "cell_type": "markdown",
   "metadata": {},
   "source": [
    "## Excel con Pandas"
   ]
  },
  {
   "cell_type": "markdown",
   "metadata": {},
   "source": [
    "[Contenido](#Contenido)"
   ]
  },
  {
   "cell_type": "markdown",
   "metadata": {},
   "source": [
    "\n",
    "> [`pandas.DataFrame.to_excel`](http://pandas.pydata.org/pandas-docs/stable/generated/pandas.DataFrame.to_excel.html)  \n",
    "[`pandas.to_excel`](http://pandas.pydata.org/pandas-docs/stable/io.html#io-excel-writer)  \n",
    "[`pandas.read_excel`](http://pandas.pydata.org/pandas-docs/stable/io.html#io-excel-reader) "
   ]
  },
  {
   "cell_type": "code",
   "execution_count": null,
   "metadata": {},
   "outputs": [],
   "source": [
    "df.to_excel('files/data.xlsx',\n",
    "            index = False)"
   ]
  },
  {
   "cell_type": "code",
   "execution_count": null,
   "metadata": {},
   "outputs": [],
   "source": [
    "import pandas\n",
    "pandas.read_excel('files/data.xlsx')"
   ]
  },
  {
   "cell_type": "markdown",
   "metadata": {},
   "source": [
    "## HDF5 con Pandas"
   ]
  },
  {
   "cell_type": "markdown",
   "metadata": {},
   "source": [
    "[Contenido](#Contenido)"
   ]
  },
  {
   "cell_type": "markdown",
   "metadata": {},
   "source": [
    "> [`pandas.DataFrame.to_hdf`](http://pandas.pydata.org/pandas-docs/stable/generated/pandas.DataFrame.to_hdf.html)  \n",
    "[`pandas.to_hdf`](http://pandas.pydata.org/pandas-docs/stable/io.html#io-hdf5)  \n",
    "[`pandas.read_hdf`](http://pandas.pydata.org/pandas-docs/stable/io.html#io-hdf5)"
   ]
  },
  {
   "cell_type": "code",
   "execution_count": null,
   "metadata": {},
   "outputs": [],
   "source": [
    "## escribe el archivo a disco\n",
    "df.to_hdf('files/data.h5', \n",
    "          key = 'G1')"
   ]
  },
  {
   "cell_type": "code",
   "execution_count": null,
   "metadata": {},
   "outputs": [],
   "source": [
    "## lectura\n",
    "pandas.read_hdf('files/data.h5',\n",
    "                key = 'G1')"
   ]
  },
  {
   "cell_type": "code",
   "execution_count": null,
   "metadata": {},
   "outputs": [],
   "source": [
    "pandas.read_hdf('files/data.h5')"
   ]
  },
  {
   "cell_type": "markdown",
   "metadata": {},
   "source": [
    "## STATA con Pandas"
   ]
  },
  {
   "cell_type": "markdown",
   "metadata": {},
   "source": [
    "[Contenido](#Contenido)"
   ]
  },
  {
   "cell_type": "markdown",
   "metadata": {},
   "source": [
    "> [`pandas.DataFrame.to_stata`](http://pandas.pydata.org/pandas-docs/stable/generated/pandas.DataFrame.to_stata.html)  \n",
    "[`pandas.to_stata`](http://pandas.pydata.org/pandas-docs/stable/io.html#io-stata-writer)  \n",
    "[`pandas.read_stata`](http://pandas.pydata.org/pandas-docs/stable/io.html#io-stata-reader)  "
   ]
  },
  {
   "cell_type": "code",
   "execution_count": null,
   "metadata": {},
   "outputs": [],
   "source": [
    "## escribe el archivo\n",
    "df.to_stata('files/data.dta')\n",
    "\n",
    "## lee el archivo\n",
    "pandas.read_stata('files/data.dta')"
   ]
  },
  {
   "cell_type": "markdown",
   "metadata": {},
   "source": [
    "# Lectura de PDFs"
   ]
  },
  {
   "cell_type": "markdown",
   "metadata": {},
   "source": [
    "> [`PyPDF2`](https://pythonhosted.org/PyPDF2/)  \n",
    "Instalación:\n",
    "\n",
    "> ```\n",
    "pip install PyPDF2\n",
    "```"
   ]
  },
  {
   "cell_type": "markdown",
   "metadata": {},
   "source": [
    "[Contenido](#Contenido)"
   ]
  },
  {
   "cell_type": "code",
   "execution_count": null,
   "metadata": {
    "scrolled": true
   },
   "outputs": [],
   "source": [
    "import PyPDF2\n",
    "pdfFileObj = open('files/wikipedia.pdf', 'rb')\n",
    "pdfReader = PyPDF2.PdfFileReader(pdfFileObj)\n",
    "pageObj = pdfReader.getPage(0)\n",
    "pageObj.extractText()"
   ]
  },
  {
   "cell_type": "markdown",
   "metadata": {},
   "source": [
    "# Lectura de Matlab y Octave"
   ]
  },
  {
   "cell_type": "markdown",
   "metadata": {},
   "source": [
    "[Contenido](#Contenido)"
   ]
  },
  {
   "cell_type": "markdown",
   "metadata": {},
   "source": [
    "> [`sio.loadmat`](http://docs.scipy.org/doc/scipy/reference/tutorial/io.html)   \n",
    "[`sio.savemat`](http://docs.scipy.org/doc/scipy/reference/tutorial/io.html)"
   ]
  },
  {
   "cell_type": "code",
   "execution_count": null,
   "metadata": {
    "scrolled": true
   },
   "outputs": [],
   "source": [
    "import scipy.io as sio\n",
    "sio.savemat('files/data', {'df': df})\n",
    "sio.loadmat('files/data')"
   ]
  }
 ],
 "metadata": {
  "anaconda-cloud": {},
  "kernelspec": {
   "display_name": "Python 3",
   "language": "python",
   "name": "python3"
  },
  "language_info": {
   "codemirror_mode": {
    "name": "ipython",
    "version": 3
   },
   "file_extension": ".py",
   "mimetype": "text/x-python",
   "name": "python",
   "nbconvert_exporter": "python",
   "pygments_lexer": "ipython3",
   "version": "3.7.1"
  }
 },
 "nbformat": 4,
 "nbformat_minor": 1
}
