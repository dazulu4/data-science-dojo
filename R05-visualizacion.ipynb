{
 "cells": [
  {
   "cell_type": "markdown",
   "metadata": {},
   "source": [
    "Visualización usando Base\n",
    "==="
   ]
  },
  {
   "cell_type": "markdown",
   "metadata": {},
   "source": [
    "#### Contenido"
   ]
  },
  {
   "cell_type": "markdown",
   "metadata": {},
   "source": [
    "> \n",
    "* [Introducción](#Introducción)\n",
    "* [Librerías](#Librerías)\n",
    "* [Ejemplo](#Ejemplo)\n",
    "* [Gráficos de dispersión](#Gráficos-de-dispersión)\n",
    "* [Personalización de gráficos](#Personalización-de-gráficos)\n",
    "* [Graficación de funciones matemáticas](#Graficación-de-funciones-matemáticas)\n",
    "* [Visualización de distribuciones univariadas](#Visualización-de-distribuciones-univariadas)\n",
    "* [Superficies y otros gráficos tridimensionales](#Superficies-y-otros-gráficos-tridimensionales)"
   ]
  },
  {
   "cell_type": "markdown",
   "metadata": {},
   "source": [
    "# Introducción"
   ]
  },
  {
   "cell_type": "markdown",
   "metadata": {},
   "source": [
    "[Contenido](#Contenido)"
   ]
  },
  {
   "cell_type": "markdown",
   "metadata": {},
   "source": [
    "El lenguaje R posee tres sistemas tradicionales de graficación:\n",
    "* Base\n",
    "* Lattice\n",
    "* ggplot2\n",
    "\n",
    "Sin embargo, recientemente se han desarrollado otras librerias gráficas como:\n",
    "* [rBokeh](http://hafen.github.io/rbokeh/)\n",
    "* [LightningR](https://github.com/Ermlab/lightning-rstat)  \n",
    "\n",
    "y se ha desarrollado un [puerto de ggplot](http://blog.yhat.com/posts/ggplot-for-python.html) para Python. Es así como el aprendizaje y dominio de los sistemas de graficación para ambos lenguajes resulta muy beneficioso para el profesional del área.\n",
    "\n",
    "\n",
    "En este tutorial se presentan ejemplos de graficos construidos usando el sistema base del lenguaje R. Muchos de los parámetros tienen valores por defecto. Solo se ilustran los principales parámetros y debe consultar la ayuda para cada función para ver más opciones de personalización. "
   ]
  },
  {
   "cell_type": "markdown",
   "metadata": {},
   "source": [
    "# Librerías"
   ]
  },
  {
   "cell_type": "markdown",
   "metadata": {},
   "source": [
    "[Contenido](#Contenido)"
   ]
  },
  {
   "cell_type": "markdown",
   "metadata": {},
   "source": [
    "El sistema base se carga por defecto, por lo que las funciones pueden ser llamadas directamente.  \n",
    "\n",
    "Para poder emplear en Jupyter las funciones que permiten manipular   algunas propiedades de los gráficos (tal como `options`) es necesario cargar la librería `Cairo`. "
   ]
  },
  {
   "cell_type": "code",
   "execution_count": null,
   "metadata": {},
   "outputs": [],
   "source": [
    "# para poder modificar el tamaño del gráfico en la pantalla.\n",
    "library(Cairo)"
   ]
  },
  {
   "cell_type": "markdown",
   "metadata": {},
   "source": [
    "# Ejemplo"
   ]
  },
  {
   "cell_type": "markdown",
   "metadata": {},
   "source": [
    "[Contenido](#Contenido)"
   ]
  },
  {
   "cell_type": "markdown",
   "metadata": {},
   "source": [
    "En este ejemplo se graficará la función $\\sin(x)$ para $-2\\pi \\le x \\le 2\\pi$. En la creación de la primera gráfica se asume que los datos estan almacenados en los vectores numéricos `x` y `y`; este es el caso típico en muchos lenguajes de programación. Pero en el lenguaje R, los datos están usualmente almacenados en un dataframe; en este caso se utiliza la función [`with`](https://stat.ethz.ch/R-manual/R-devel/library/base/html/with.html) para accesar los datos en las columnas del dataframe. Es así como la segunda gráfica ejemplifica como graficar desde un dataset."
   ]
  },
  {
   "cell_type": "code",
   "execution_count": null,
   "metadata": {},
   "outputs": [],
   "source": [
    "# los datos pueden estar almacenados en vectores\n",
    "x <- seq(from = -2*pi,        # para `x` desde ...\n",
    "         to = 2*pi,           # para `x` hasta ...\n",
    "         length.out = 101 )   # cantidad de puntos\n",
    "y <- sin(x) \n",
    "\n",
    "# o pueden estar almacenaddos en un dataframe.\n",
    "df <- data.frame(X = x, Y = y)"
   ]
  },
  {
   "cell_type": "markdown",
   "metadata": {},
   "source": [
    "La gráfica puede ser realizada para las variables o para las columnas del dataframe.  "
   ]
  },
  {
   "cell_type": "code",
   "execution_count": null,
   "metadata": {
    "scrolled": false
   },
   "outputs": [],
   "source": [
    "# Modifica el tamaño del gráfico en la pantalla.\n",
    "options(repr.plot.width=8, repr.plot.height=4)\n",
    "\n",
    "# Dos gráficos organizados en una cuadrícula de 1x2\n",
    "par(mfrow = c(1, 2))  \n",
    "\n",
    "# Llamada directa de plot para graficar las variables.\n",
    "plot(x, y, type = 'l')\n",
    "\n",
    "# Llamada con with. Aca X y Y se refieren a las columnas del dataframe.\n",
    "with(df, plot(X, Y, type = 'l'))\n"
   ]
  },
  {
   "cell_type": "markdown",
   "metadata": {},
   "source": [
    "Las gráficas pueden ser salvadas al disco duro.\n",
    "\n",
    "\n",
    "Haga click [aquí](https://stat.ethz.ch/R-manual/R-devel/library/grDevices/html/png.html) para obtener ayuda sobre como salvar una gráfica a un archivo en disco."
   ]
  },
  {
   "cell_type": "code",
   "execution_count": null,
   "metadata": {},
   "outputs": [],
   "source": [
    "png(filename='files/sin.png')  # especifica el nombre del archivo\n",
    "plot(x, y, type = 'l')         # grafica directamente al archivo\n",
    "dev.off()                      # cierra el archivo"
   ]
  },
  {
   "cell_type": "markdown",
   "metadata": {},
   "source": [
    "# Gráficos de dispersión"
   ]
  },
  {
   "cell_type": "markdown",
   "metadata": {},
   "source": [
    "[Contenido](#Contenido)"
   ]
  },
  {
   "cell_type": "markdown",
   "metadata": {},
   "source": [
    "> [`plot {base}`](https://stat.ethz.ch/R-manual/R-devel/library/graphics/html/plot.html)"
   ]
  },
  {
   "cell_type": "markdown",
   "metadata": {},
   "source": [
    "Estos gráficos se usan para visualizar la relación entre dos variables `x` y `y`."
   ]
  },
  {
   "cell_type": "markdown",
   "metadata": {},
   "source": [
    "Esta es la función genérica para graficación. Para iniciar se ejemplificarán sus opciones graficando las funciones `sin`  y `cos`."
   ]
  },
  {
   "cell_type": "code",
   "execution_count": null,
   "metadata": {},
   "outputs": [],
   "source": [
    "# modifica el tamaño del gráfico en la pantalla.\n",
    "options(repr.plot.width=5, repr.plot.height=4) \n",
    "\n",
    "# se generan los puntos del eje x\n",
    "x <- seq(from = -2*pi,       # para `x` desde ...\n",
    "         to = 2*pi,          # para `x` hasta ...\n",
    "         length.out = 51 )   # cantidad de puntos\n",
    "\n",
    "# se generan los puntos de las dos curvas\n",
    "y1 <- sin(x)              \n",
    "y2 <- sin(2*x)\n",
    "\n",
    "# se realiza la gráfica\n",
    "plot(x = x,                      # vector con los valores de x \n",
    "     y = y1,                     # vector con los valores de y1 = sin(x)\n",
    "     type = 'o',                 # 'o' - líneas y puntos\n",
    "     xlim = c(-6.5, 6.5),        # límites en el eje X\n",
    "     ylim = c(-1.5, 1.5),        # límites en el eje Y\n",
    "     main = \"Titulo Principal\",  # título de la figura\n",
    "     sub = \"Subtitulo\",          # subtítulo de la figura\n",
    "     xlab = 'Eje X',             # texto del eje X\n",
    "     ylab = 'Eje Y',             # texto del eje Y \n",
    "     col = 'black',              # color de la línea, incluyendo los bordes de los puntos\n",
    "     pch = 21,                   # tipo de punto, valores válidos del 1 al 24\n",
    "     cex = 0.8,                  # factor de magnificación de los puntos \n",
    "     bg = 'red')                 # color de relleno del punto\n"
   ]
  },
  {
   "cell_type": "markdown",
   "metadata": {},
   "source": [
    "El parámetro `type` representa el tipo de graficación. A continuación se ilustran sus opciones validas."
   ]
  },
  {
   "cell_type": "code",
   "execution_count": null,
   "metadata": {
    "scrolled": false
   },
   "outputs": [],
   "source": [
    "# modifica el tamaño del gráfico en la pantalla.\n",
    "options(repr.plot.width=6, repr.plot.height=10) \n",
    "par(mfrow = c(3, 2)) # gráficos organizados en matriz (3x2)\n",
    "\n",
    "plot(x = x, y = y1, type = 'p')  # \"p\" -- puntos\n",
    "plot(x = x, y = y1, type = 'l')  # \"l\" -- líneas\n",
    "plot(x = x, y = y1, type = 'b')  # \"b\" -- puntos y líneas\n",
    "plot(x = x, y = y1, type = 'o')  # \"o\" -- puntos sobre las líneas\n",
    "plot(x = x, y = y1, type = 's')  # \"s\" -- escalera\n",
    "plot(x = x, y = y1, type = 'h')  # \"h\" -- histograma"
   ]
  },
  {
   "cell_type": "markdown",
   "metadata": {},
   "source": [
    "El parámetro `lty` representa el tipo de línea. Su valores válidos se presentan a continuación. Los parámetros `lty`  y `type` son comunes a muchas funciones de graficación en las tres librerías."
   ]
  },
  {
   "cell_type": "code",
   "execution_count": null,
   "metadata": {},
   "outputs": [],
   "source": [
    "options(repr.plot.width=6, repr.plot.height=10)  \n",
    "par(mfrow = c(3, 2)) # gráficos organizados en matriz (3x2)\n",
    "\n",
    "plot(x = x, y = y1, type = 'l', lty = 'solid')  \n",
    "plot(x = x, y = y1, type = 'l', lty = 'dashed')  \n",
    "plot(x = x, y = y1, type = 'l', lty = 'dotted')  \n",
    "plot(x = x, y = y1, type = 'l', lty = 'dotdash')  \n",
    "plot(x = x, y = y1, type = 'l', lty = 'longdash') \n",
    "plot(x = x, y = y1, type = 'l', lty = 'twodash')  \n"
   ]
  },
  {
   "cell_type": "markdown",
   "metadata": {},
   "source": [
    "# Personalización de gráficos"
   ]
  },
  {
   "cell_type": "markdown",
   "metadata": {},
   "source": [
    "[Contenido](#Contenido)"
   ]
  },
  {
   "cell_type": "markdown",
   "metadata": {},
   "source": [
    "> [`title {base}`](https://stat.ethz.ch/R-manual/R-devel/library/graphics/html/title.html)  \n",
    "[`grid {base}`](https://stat.ethz.ch/R-manual/R-devel/library/graphics/html/grid.html)  \n",
    "[`rug {base}`](https://stat.ethz.ch/R-manual/R-devel/library/graphics/html/rug.html)  \n",
    "[`abline {base}`](https://stat.ethz.ch/R-manual/R-devel/library/graphics/html/abline.html)  \n",
    "[`legend {base}`](https://stat.ethz.ch/R-manual/R-devel/library/graphics/html/legend.html)  "
   ]
  },
  {
   "cell_type": "markdown",
   "metadata": {},
   "source": [
    "En esta sección se ilustra el uso de diferentes opciones de personalización de los gráficos. La personalización se puede realizar con las siguientes funciones. "
   ]
  },
  {
   "cell_type": "code",
   "execution_count": null,
   "metadata": {
    "scrolled": false
   },
   "outputs": [],
   "source": [
    "options(repr.plot.width=6, repr.plot.height=5) \n",
    "plot(x = x, \n",
    "     y = y1, \n",
    "     type = 'l',\n",
    "     main = NA,\n",
    "     ylab = NA,\n",
    "     xlab = NA)\n",
    "\n",
    "# Se personaliza el título.\n",
    "# `cex` indica el factor de magnificación. \n",
    "# `col` indica el color\n",
    "title(main =\"Titulo Principal\", \n",
    "      sub = \"Subtitulo\",\n",
    "      xlab = 'Eje X',\n",
    "      ylab = 'Eje Y',\n",
    "      cex.main = 2,    col.main= \"blue\",\n",
    "      cex.sub = 0.75,  col.sub = \"red\",\n",
    "      cex.lab = 0.75,  col.lab = \"green\")\n",
    "\n",
    "# Se agrega la malla\n",
    "grid(col = \"gray\",    # color    \n",
    "     lty = \"dotted\",  # tipo de línea\n",
    "     lwd = 1)         # ancho de la línea\n",
    "\n",
    "# Se marcan los datos en el eje X\n",
    "rug(x , side = 1) # parte inferior\n",
    "rug(x , side = 3) # parte superior\n",
    "\n",
    "# la función abline puede ser usada para adicionar \n",
    "# líneas verticales y horizontales simulando los ejes\n",
    "abline(h = 0, lwd = 3)              # linea horizontal en y = 0 y ancho (lwd) = 3\n",
    "abline(v = 0, lwd = 3, col = 'red') # linea horizontal en x = 0 y ancho (lwd) = 3\n",
    "\n",
    "\n",
    "# opciones válidas para x: \n",
    "#    \"bottomright\", \"bottom\", \"bottomleft\", \"left\", \n",
    "#    \"topleft\", \"top\", \"topright\", \"right\", \"center\"\n",
    "legend(x = 'topright', \n",
    "       legend = c('sin(x)'), \n",
    "       fill = NULL, \n",
    "       col = c('black'),\n",
    "       border = \"black\", \n",
    "       bg = 'white',\n",
    "       lty = 'solid', \n",
    "       lwd = 1, \n",
    "       pch = NA,\n",
    "       horiz = FALSE,\n",
    "       merge = FALSE\n",
    "      )"
   ]
  },
  {
   "cell_type": "markdown",
   "metadata": {},
   "source": [
    "> [`lines {base}`](https://stat.ethz.ch/R-manual/R-devel/library/graphics/html/lines.html)  \n",
    "[`points {base}`](https://stat.ethz.ch/R-manual/R-devel/library/graphics/html/points.html)"
   ]
  },
  {
   "cell_type": "code",
   "execution_count": null,
   "metadata": {},
   "outputs": [],
   "source": [
    "options(repr.plot.width=6, repr.plot.height=5)\n",
    "\n",
    "# función sin(x)\n",
    "plot(x = x, \n",
    "     y = y1, \n",
    "     type = 'o',\n",
    "     main = NA, \n",
    "     sub = NA,\n",
    "     xlab = NA,\n",
    "     ylab = NA,\n",
    "     pch = 20)\n",
    "\n",
    "# para agregar la segunda función (y2 = sin(3x))\n",
    "# se deben agregar las líneas y los puntos separadamente\n",
    "\n",
    "lines(x = x,       \n",
    "      y = y2,\n",
    "      type = 'l',  # 'p', 'l', 'o', 'h', 's'\n",
    "      lty = 'solid',\n",
    "      col = 'red',\n",
    "      lwd = 2)\n",
    "\n",
    "points(x = x,\n",
    "       y = y2,\n",
    "       cex = 1.5,      # factor de magnificación del punto\n",
    "       pch = 22,       # 21-circulo, 22-cuadrado, 23-rombo, 24- triangulo, 25-triangulo inv. \n",
    "       col = 'blue',   # contorno del punto\n",
    "       bg = 'yellow')  # relleno del punto\n",
    "\n",
    "legend(x = 'topright', \n",
    "       legend = c('sin(x)', 'cos(x)'), \n",
    "       fill = NULL, \n",
    "       col = c('black', 'red'),\n",
    "       border = \"black\", \n",
    "       bg = 'white',\n",
    "       lty = 'solid', \n",
    "       lwd = c(1, 2), \n",
    "       pch = c('o', 22),\n",
    "       horiz = FALSE,\n",
    "       merge = FALSE\n",
    "      )\n"
   ]
  },
  {
   "cell_type": "markdown",
   "metadata": {},
   "source": [
    "> [`polygon {base}`](https://stat.ethz.ch/R-manual/R-devel/library/graphics/html/polygon.html)"
   ]
  },
  {
   "cell_type": "code",
   "execution_count": null,
   "metadata": {
    "scrolled": false
   },
   "outputs": [],
   "source": [
    "# `polygon` dibuja un polígono relleno\n",
    "# En este caso se desea rellenar el área bajo la curva.\n",
    "options(repr.plot.width=6, repr.plot.height=4) \n",
    "\n",
    "plot(x,                          # x\n",
    "     y1,                         # y = f(x)\n",
    "     type = 'l',                 # tipo de línea ('p', 'l', 'o', 'h', 's')\n",
    "     lty = 1,                    # tipo de línea: 1 - continua\n",
    "     lwd = 3)                    # ancho de la línea\n",
    "\n",
    "# se deben completar los puntos del polígono \n",
    "# para cerrarlo adicionando las coordenadas en x\n",
    "# en order inverso y poniéndoles cero para el eje y.\n",
    "\n",
    "p.x = c(x, rev(x))               # genera un poligono, puntos en X\n",
    "p.y1 = c(y1, rep(0, length(x)))  # puntos en Y\n",
    "\n",
    "polygon(x = p.x, \n",
    "        y = p.y1,\n",
    "        col = 'red',             # color de relleno del polígono\n",
    "        border = NA)             # sin borde\n"
   ]
  },
  {
   "cell_type": "markdown",
   "metadata": {},
   "source": [
    "> [`plot.new`](https://stat.ethz.ch/R-manual/R-devel/library/graphics/html/frame.html)  \n",
    "[`plot.window`](https://stat.ethz.ch/R-manual/R-devel/library/graphics/html/plot.window.html)  \n",
    "[`axis`](https://stat.ethz.ch/R-manual/R-devel/library/graphics/html/axis.html)"
   ]
  },
  {
   "cell_type": "markdown",
   "metadata": {},
   "source": [
    "Este grupo de funciones (y las siguientes) se usan para personalizar gráficos o para crear nuevas funciones gráficas."
   ]
  },
  {
   "cell_type": "code",
   "execution_count": null,
   "metadata": {},
   "outputs": [],
   "source": [
    "options(repr.plot.width=6, repr.plot.height=6) \n",
    "\n",
    "plot.new()                           # crea una gráfica vacía\n",
    "\n",
    "# define los límites de la gráfica.\n",
    "plot.window(xlim = c(0, 10),         # límites del eje x\n",
    "            ylim = c(0, 10),         # límites del eje y\n",
    "            log = \"\",                # logaritmicos?\n",
    "            asp = NA)                # aspecto\n",
    "\n",
    "# grafica los ejes.\n",
    "axis(side = 1,                       # 1=below, 2=left, 3=above and 4=right\n",
    "     at = NULL,                      # ubicación de las divisiones del eje\n",
    "     labels = TRUE,                  #\n",
    "     tick = TRUE,                    #\n",
    "     lty = \"solid\",                  # tipo de línea\n",
    "     lwd = 1,                        # grosor de la línea\n",
    "     lwd.ticks = 1,                  # ancho de las marcas\n",
    "     col = 'red',                    # color de la línea\n",
    "     col.ticks = 'blue')             # color de los marcadores\n",
    "\n",
    "axis(side = 2,                       # 1=below, 2=left, 3=above and 4=right\n",
    "     at = NULL,                      # ubicación de las divisiones del eje\n",
    "     labels = TRUE,                  #\n",
    "     tick = TRUE,                    #\n",
    "     lty = \"solid\",                  # tipo de línea\n",
    "     lwd = 2,                        # grosor de la línea\n",
    "     lwd.ticks = 1,                  # ancho de las marcas\n",
    "     col = 'green',                  # color de la línea\n",
    "     col.ticks = 'blue')             # color de los marcadores\n",
    "\n",
    "# agrega la malla interior (solo para visualizar)\n",
    "grid()   "
   ]
  },
  {
   "cell_type": "markdown",
   "metadata": {},
   "source": [
    "> [`text`](https://stat.ethz.ch/R-manual/R-devel/library/graphics/html/text.html)  \n",
    "[`mtext`](https://stat.ethz.ch/R-manual/R-devel/library/graphics/html/mtext.html)  \n",
    "[`arrows`](https://stat.ethz.ch/R-manual/R-devel/library/graphics/html/arrows.html)  \n",
    "[`segments`](https://stat.ethz.ch/R-manual/R-devel/library/graphics/html/segments.html)  \n",
    "[`rect`](https://stat.ethz.ch/R-manual/R-devel/library/graphics/html/rect.html)  "
   ]
  },
  {
   "cell_type": "code",
   "execution_count": null,
   "metadata": {},
   "outputs": [],
   "source": [
    "# se inicia con la misma gráfica anterior\n",
    "options(repr.plot.width=6, repr.plot.height=6) \n",
    "plot.new()                           # crea una gráfica vacía\n",
    "plot.window(xlim = c(0, 10),         # límites del eje x\n",
    "            ylim = c(0, 10),         # límites del eje y\n",
    "            log = \"\",                # logaritmicos?\n",
    "            asp = NA)                # aspecto\n",
    "\n",
    "axis(side = 1)\n",
    "axis(side = 2)\n",
    "grid()\n",
    "\n",
    "\n",
    "# hasta aquí igual que el ejemplo anterior.\n",
    "\n",
    "# caja alrededor de la gráfica\n",
    "box(lty = 'solid', col = 'blue')         \n",
    "\n",
    "text(x = 2,                           # coordenada en X\n",
    "     y = 9,                           # coordenada en Y\n",
    "     labels = 'texto',                # texto\n",
    "     cex = 0.8)                       # factor de magnificación\n",
    "\n",
    "mtext(text = 'texto al margen',       # texto\n",
    "      side = 4,                       # 1=bottom, 2=left, 3=top, 4=right\n",
    "      adj = NA,                       # ubicación (NA=centrado)\n",
    "      padj = NA,                      # distancia respecto al eje (NA=cerca)\n",
    "      cex = NA,                       # factor de manificación \n",
    "      col = NA)                       # color\n",
    "\n",
    "arrows(x0 = 1, \n",
    "       y0 = 4:8, \n",
    "       x1 = 2, \n",
    "       y1 = 4:8, \n",
    "       col = 'black', \n",
    "       length = 0.1,                  # tamaño de la flecha\n",
    "       angle = 20,                    # angulo de la flecha\n",
    "       code = 3,                      # 1- extremo inicial, 2- extremo final, 3- ambos\n",
    "       lwd = 1)\n",
    "\n",
    "segments(x0 = 2:8,                    # vector de coordenadas iniciales en x para cada línea\n",
    "         y0 = 0,                      # vector de coordenadas iniciales en y para cada línea\n",
    "         x1 = 2:8,                    # vector de coordenadas finales en x para cada línea\n",
    "         y1 = 2,                      # vector de coordenadas finales en y para cada línea\n",
    "         col = rainbow(7),            # color de las líneas \n",
    "         lty = 1,                     # tipo de línea\n",
    "         lwd = 2)                     # ancho de la línea\n",
    "\n",
    "rect(xleft = 4:6,                     # x - esquina inferior izquierda\n",
    "     ybottom = 4:6,                   # y - esquina inferior izquierda\n",
    "     xright = 8:10,                   # x - esquina superior derecha\n",
    "     ytop = 8:10,                     # y - esquina superior derecha\n",
    "     density = 10,                    # densidad del rayado\n",
    "     angle = 10+30*1:3,               # ángulo de las lineas de rayado\n",
    "     col = rainbow(3),                # vector de colores\n",
    "     border = NULL,                   # \n",
    "     lty = 'dotted',                  # tipo de línea del rayado\n",
    "     lwd = 1)                         # grueso de línea del rayado  "
   ]
  },
  {
   "cell_type": "markdown",
   "metadata": {},
   "source": [
    "> [`clip {base}`](https://stat.ethz.ch/R-manual/R-devel/library/graphics/html/clip.html)"
   ]
  },
  {
   "cell_type": "code",
   "execution_count": null,
   "metadata": {},
   "outputs": [],
   "source": [
    "x <- seq(from = 0, to = 5, length.out = 20)\n",
    "\n",
    "y2 <- x^2  \n",
    "y3 <- x^3\n",
    "\n",
    "plot(x = x,           # grafica x^3\n",
    "     y = y3,\n",
    "     col = 'blue',\n",
    "     type = 'l',\n",
    "     lwd = 2,\n",
    "     ylab = NA)\n",
    "\n",
    "# almacena los parámetros actuales para el usuario\n",
    "usr <- par(\"usr\") \n",
    "\n",
    "abline(v = 2, col = 'gray')\n",
    "abline(v = 4, col = 'gray')\n",
    "\n",
    "\n",
    "clip(x1 = 2, \n",
    "     x2 = 4, \n",
    "     y1 = usr[3], \n",
    "     y2 = usr[4])\n",
    "\n",
    "\n",
    "# las líneas solo se gráfican en la región definida\n",
    "# por la función clip aunque x y y2 están definidas\n",
    "# sobre todo el dominio de la función.\n",
    "lines(x = x,\n",
    "      y = y2,\n",
    "      col = 'red',\n",
    "      type = 'l',\n",
    "      lwd = 2,\n",
    "      ylab = NA)"
   ]
  },
  {
   "cell_type": "markdown",
   "metadata": {},
   "source": [
    "# Graficación de funciones matemáticas"
   ]
  },
  {
   "cell_type": "markdown",
   "metadata": {},
   "source": [
    "[Contenido](#Contenido)"
   ]
  },
  {
   "cell_type": "markdown",
   "metadata": {},
   "source": [
    "> [`curve {base}`](https://stat.ethz.ch/R-manual/R-devel/library/graphics/html/curve.html)  "
   ]
  },
  {
   "cell_type": "markdown",
   "metadata": {},
   "source": [
    "La función `curve` se usa para graficar directamente las funciones si generar explicitamente los puntos."
   ]
  },
  {
   "cell_type": "code",
   "execution_count": null,
   "metadata": {
    "scrolled": false
   },
   "outputs": [],
   "source": [
    "curve(expr = sin,     # función a graficar\n",
    "      from = -2 * pi, # \n",
    "      to = 2 * pi,    # \n",
    "      n = 101,        # número de puntos (valor por defecto)\n",
    "      add = FALSE,    # TRUE - para agregar a la gráfica anterior\n",
    "      type = \"l\",     # tipo de linea\n",
    "      xname = \"x\",    # nombre de la variable \n",
    "      title = NULL,   # titulo principal del gráfico\n",
    "      sub = NULL,     # subtítulo del eje X \n",
    "      xlab = 'Eje X', #  \n",
    "      ylab = NULL,    # por defecto `sin(x)`\n",
    "      log = NULL,     # en escala logaritmica\n",
    "      xlim = NULL)    # \n",
    "\n",
    "f <- function(x) sin(3*x)\n",
    "    \n",
    "curve(expr = f,       # función a graficar\n",
    "      n = 201,        # número de puntos (valor por defecto)\n",
    "      add = TRUE,     # TRUE - para agregar a la gráfica anterior\n",
    "      type = \"l\",     # tipo de linea\n",
    "      col = 'red',    # color de la línea\n",
    "      lwd = 2)        # ancho de la línea \n"
   ]
  },
  {
   "cell_type": "markdown",
   "metadata": {},
   "source": [
    "# Visualización de distribuciones univariadas"
   ]
  },
  {
   "cell_type": "markdown",
   "metadata": {},
   "source": [
    "[Contenido](#Contenido)"
   ]
  },
  {
   "cell_type": "markdown",
   "metadata": {},
   "source": [
    "> [`hist {base}`](https://stat.ethz.ch/R-manual/R-devel/library/graphics/html/hist.html)"
   ]
  },
  {
   "cell_type": "code",
   "execution_count": null,
   "metadata": {
    "scrolled": false
   },
   "outputs": [],
   "source": [
    "options(repr.plot.width=4, repr.plot.height=4)  \n",
    "\n",
    "# se generan 200 puntos aletorios normales \n",
    "# con u = 0 y s = 1\n",
    "x <- rnorm(200)             \n",
    "hist(x,                               # la variable\n",
    "     col=rainbow(20),                 # color del histograma\n",
    "     xlab = \"TItulo eje X\",           # titulo del eje X\n",
    "     ylab = \"Titulo eje Y\",           # titulo del eje Y\n",
    "     main = \"Titulo principal\",       # titulo del grafico\n",
    "     xlim = c(-3, 3),                 # limites eje X\n",
    "     ylim = c(0, 30),                 # limite eje Y\n",
    "     breaks = 20)                     # número de bins\n",
    "\n",
    "rug(x, side=1)                                # datos en el eje X\n"
   ]
  },
  {
   "cell_type": "markdown",
   "metadata": {},
   "source": [
    "> [`boxplot {base}`](https://stat.ethz.ch/R-manual/R-devel/library/graphics/html/boxplot.html)"
   ]
  },
  {
   "cell_type": "code",
   "execution_count": null,
   "metadata": {},
   "outputs": [],
   "source": [
    "x = matrix(rnorm(30), 10, 3)\n",
    "\n",
    "boxplot(x = x, \n",
    "        range = 0.0,                     # extensión del bigote \n",
    "        width = c(1, 2, 3),              # anchos relativos de las cajas\n",
    "        varwidth = FALSE,                # ancho relativo a la cantidad de puntos en cada caja\n",
    "        notch = FALSE,                   # dibuja el notch?\n",
    "        outline = TRUE,                  # grafica los outliers\n",
    "        names = LETTERS[1:3],            # nombres\n",
    "        border = par(\"fg\"),              # colores de los bordes\n",
    "        col = rainbow(3),                # colores de las cajas\n",
    "        horizontal = TRUE,               # horizontal o vertical?\n",
    "        add = FALSE,                     # adiciona el gráfico a la figura existente?\n",
    "        at = NULL)                       # coordenadas cuando se adiciona a otro gráfico"
   ]
  },
  {
   "cell_type": "markdown",
   "metadata": {},
   "source": [
    "> [`barplot {base}`](https://stat.ethz.ch/R-manual/R-devel/library/graphics/html/barplot.html)"
   ]
  },
  {
   "cell_type": "markdown",
   "metadata": {},
   "source": [
    "\n",
    "Paletas de colores:  \n",
    "* [`rainbow {base}`](https://stat.ethz.ch/R-manual/R-devel/library/grDevices/html/palettes.html)\n",
    "* [`gray {base}`](https://stat.ethz.ch/R-manual/R-devel/library/grDevices/html/gray.html)"
   ]
  },
  {
   "cell_type": "code",
   "execution_count": null,
   "metadata": {},
   "outputs": [],
   "source": [
    "options(repr.plot.width=8, repr.plot.height=4)  \n",
    "\n",
    "par(mfrow = c(1, 2))               # gráficos organizados en matriz \n",
    "\n",
    "N <- 5                             # cantidad de barras\n",
    "x <- runif(N, min = 10, max = 30)  # datos de cada barra\n",
    "x.names <- LETTERS[1:N]            # nombres de cada barra\n",
    "\n",
    "barplot(height = x,                # longitud de las barras\n",
    "        horiz = TRUE,              # TRUE - horizontal, FALSE - vertical\n",
    "        names.arg = x.names,       # nombres de las barras \n",
    "        cex.main = 2.0,            # factor de magnificación del título principal\n",
    "        cex.lab = 0.6,             # factor de magnificación de los títulos de los ejes\n",
    "        cex.sub = 0.8,             # factor de magnificación del subtitulo \n",
    "        main = 'Titulo Principal', \n",
    "        sub = 'subtitulo', \n",
    "        xlab = 'Eje X',\n",
    "        ylab = 'Eje Y')\n",
    "\n",
    "\n",
    "barplot(height = x,                # longitud de las barras\n",
    "        horiz = FALSE,             # TRUE - horizontal, FALSE - vertical\n",
    "        names.arg = x.names,    \n",
    "        density = 6,               # densidad de las líneas de relleno\n",
    "        angle = 15 + 20*1:5,       # angulo de las líneas de relleno en grados\n",
    "        col = rainbow(5),          # colores \n",
    "        main = 'Titulo Principal', \n",
    "        axisnames = TRUE,          # TRUE - grafica los ejes, FALSE - no los grafica\n",
    "        sub = 'subtitulo', \n",
    "        xlab = 'Eje X',\n",
    "        ylab = 'Eje Y')"
   ]
  },
  {
   "cell_type": "code",
   "execution_count": null,
   "metadata": {
    "scrolled": false
   },
   "outputs": [],
   "source": [
    "par(mfrow = c(1, 2))              # gráficos simultáneos \n",
    "\n",
    "y <- runif(N, min = 5, max = 10)  # datos para una nueva barra\n",
    "barplot(height = rbind(x, y),     # datos en forma de columna           \n",
    "        horiz = FALSE,            # TRUE - horizontal, FALSE - vertical\n",
    "        beside = FALSE,           # TRUE - no apilada, FALSE - apilada \n",
    "        border = \"red\",           # color del borde\n",
    "        width = 80 + 20*1:5,      # anchos de las barras\n",
    "        names.arg = x.names)\n",
    "\n",
    "barplot(height = rbind(x, y),                \n",
    "        horiz = FALSE,            # TRUE - horizontal, FALSE - vertical\n",
    "        beside = TRUE)            # TRUE - no apilada, FALSE - apilada\n",
    " "
   ]
  },
  {
   "cell_type": "markdown",
   "metadata": {},
   "source": [
    "> [`dotchart {base}`](https://stat.ethz.ch/R-manual/R-devel/library/graphics/html/dotchart.html)"
   ]
  },
  {
   "cell_type": "code",
   "execution_count": null,
   "metadata": {
    "scrolled": false
   },
   "outputs": [],
   "source": [
    "options(repr.plot.width=5, repr.plot.height=6)  \n",
    "x <- sort(runif(8))\n",
    "y <- sort(runif(8))\n",
    "labels <- LETTERS[1:8]\n",
    "dotchart(x = cbind(x, y),                # datos\n",
    "         labels = labels,                # nombres\n",
    "         cex = par(\"cex\"),               #\n",
    "         pt.cex = 1.6,                   # factor de magnificación de los marcadores\n",
    "         pch = 21,                       # tipo de marcador (21 a 24 tienen relleno) \n",
    "         bg = 'red',                     # relleno de los puntos\n",
    "         color = 'green',                # color de las letras\n",
    "         lcolor = \"blue\",                # color de las líneas horizontales para cada dato\n",
    "         xlim = range(x[is.finite(x)]),  # límites del eje X\n",
    "         main = NULL,                    # título principal\n",
    "         xlab = NULL,                    # eje X\n",
    "         ylab = NULL)                    # eje Y\n"
   ]
  },
  {
   "cell_type": "markdown",
   "metadata": {},
   "source": [
    "> [`pie {base}`](https://stat.ethz.ch/R-manual/R-devel/library/graphics/html/pie.html)"
   ]
  },
  {
   "cell_type": "code",
   "execution_count": null,
   "metadata": {},
   "outputs": [],
   "source": [
    "options(repr.plot.width=5, repr.plot.height=5)  \n",
    "\n",
    "x <- rep(1, 24) \n",
    "pie(x = x,              # los puntos a graficar\n",
    "    labels = names(x),  # nombres de los puntos \n",
    "    edges = 200,        # número de lados del polígono que aproxima el círculo\n",
    "    radius = 1.0,       # radio del círculo\n",
    "    clockwise = FALSE,  # sentido en que se grafica\n",
    "    init.angle = 0,     # angulo inicial en que empiza la primera área\n",
    "    density = NULL,     # densidad de las líneas de relleno\n",
    "    angle = 45,         # ángulo de las líneas de relleno\n",
    "    col = rainbow(24),  # colores del relleno\n",
    "    border = NULL,      # color de las líneas interiores \n",
    "    lty = NULL,         # líneas interiores \n",
    "    main = NULL)        # título principal\n"
   ]
  },
  {
   "cell_type": "code",
   "execution_count": null,
   "metadata": {},
   "outputs": [],
   "source": [
    "# rango de grises\n",
    "colores <- gray(seq(0.2, 1.0, length = 24))\n",
    "\n",
    "pie(x = x,                     # los puntos a graficar\n",
    "    labels = names(x),         # nombres de los puntos \n",
    "    edges = 200,               # número de lados del polígono que aproxima el círculo\n",
    "    radius = 0.8,              # radio del círculo\n",
    "    clockwise = TRUE,          # sentido en que se grafica\n",
    "    init.angle = 90,           # angulo inicial en que empiza la primera área\n",
    "    density = NULL,            # sombreado\n",
    "    angle = 45,                # sombreado\n",
    "    col = colores,             # colores de relleno\n",
    "    border = 'red',            # color de las líneas interiores  \n",
    "    lty = 'dotted',            # tipo de línea\n",
    "    main = 'Título principal') # título principal\n",
    "\n",
    "# pie(pie.sales, density = 10, angle = 15 + 10 * 1:6)"
   ]
  },
  {
   "cell_type": "code",
   "execution_count": null,
   "metadata": {
    "scrolled": false
   },
   "outputs": [],
   "source": [
    "x <- rep(1:6)\n",
    "pie(x = x,                     # los puntos a graficar\n",
    "    labels = names(x),         # nombres de los puntos \n",
    "    edges = 200,               # número de lados del polígono que aproxima el círculo\n",
    "    radius = 0.8,              # radio del círculo\n",
    "    clockwise = TRUE,          # sentido en que se grafica\n",
    "    init.angle = 90,           # angulo inicial en que empiza la primera área\n",
    "    density = 8,               # sombreado\n",
    "    angle = 10 +  20 * 1:6,    # sombreado\n",
    "    col = rainbow(6),          # colores de relleno\n",
    "    border = 'black',          # color de las líneas interiores  \n",
    "    lty = NULL,                # tipo de línea\n",
    "    main = NULL)               # título principal"
   ]
  },
  {
   "cell_type": "markdown",
   "metadata": {},
   "source": [
    "# Superficies y otros gráficos tridimensionales"
   ]
  },
  {
   "cell_type": "markdown",
   "metadata": {},
   "source": [
    "[Contenido](#Contenido)"
   ]
  },
  {
   "cell_type": "markdown",
   "metadata": {},
   "source": [
    "> [`persp {base}`](https://stat.ethz.ch/R-manual/R-devel/library/graphics/html/persp.html)  \n",
    "[`contour {base}`](https://stat.ethz.ch/R-manual/R-devel/library/graphics/html/contour.html)"
   ]
  },
  {
   "cell_type": "code",
   "execution_count": null,
   "metadata": {},
   "outputs": [],
   "source": [
    "# genera la información para la función\n",
    "x <- seq(-10, 10, length= 30)\n",
    "y <- x\n",
    "f <- function(x, y) { r <- sqrt(x^2+y^2); 10 * sin(r)/r }\n",
    "z <- outer(x, y, f)\n",
    "z[is.na(z)] <- 1\n",
    "\n",
    "# opciones gráficas\n",
    "options(repr.plot.width=8, repr.plot.height=6)  \n",
    "par(mfrow = c(1, 2)) # gráficos simultáneos \n",
    "\n",
    "persp(x = x,                             # vector con puntos sobre el eje x\n",
    "      y = y,                             # vector con puntos sobre el eje y\n",
    "      z = z,                             # matriz z(x, y)\n",
    "      xlim = range(x),                   # límites para el eje x\n",
    "      ylim = range(y),                   # límites para el eje y\n",
    "      zlim = range(z, na.rm = TRUE),     # límites para el eje z\n",
    "      xlab = NULL,                       #\n",
    "      ylab = NULL,                       # \n",
    "      zlab = NULL,                       #\n",
    "      main = NULL,                       #\n",
    "      sub = NULL,                        #\n",
    "      theta = 40,                        # ángulo para definir la vista\n",
    "      phi = 35,                          # ángulo para definir la vista\n",
    "      r = 1,                             # distancia del punto de vista al centro del cubo\n",
    "      d = 1,                             # factor para controlar la perspectiva\n",
    "      expand = 1,                        # factor de expansión del eje z\n",
    "      col = \"lightblue\",                 #\n",
    "      border = NULL,                     #\n",
    "      ltheta = 120,                      # ángulos para definir el sombreado\n",
    "      lphi = 0,                          # ángulos para definir el sombreado\n",
    "      shade = 0.75,                      # sombreado\n",
    "      box = TRUE,                        # dibuja el cubo alrededor de la superficie \n",
    "      axes = TRUE,                       # coloca nombres en los ejes\n",
    "      nticks = 5,                        # número de marcas en los ejes\n",
    "      ticktype = \"simple\")               # tipo de marcas en los ejes ('simple', 'detailed') \n",
    "\n",
    "contour(x = x,                           #\n",
    "        y = y,                           #\n",
    "        z = z,                           #\n",
    "        nlevels = 10,                    # número de líneas de nivel\n",
    "        levels = 1:10,                   # valores de las líneas de nivel\n",
    "        labels = NULL,                   # textos para las líneas de nivel\n",
    "        xlim = range(x),                 #\n",
    "        ylim = range(y),                 #\n",
    "        zlim = range(z),                 # \n",
    "        labcex = 0.6,                    # factor de magnificación\n",
    "        drawlabels = TRUE,               #  \n",
    "        method = \"flattest\",             # 'flattest', 'edge'\n",
    "        axes = TRUE,                     # dibuja ejes?\n",
    "        col = 'red',                     # color de las líneas de nivel\n",
    "        lty = 1,                         # tipo de lineas \n",
    "        lwd = 1,                         # grueso de las líneas\n",
    "        add = FALSE)                     #\n",
    "\n"
   ]
  },
  {
   "cell_type": "code",
   "execution_count": null,
   "metadata": {},
   "outputs": [],
   "source": [
    "options(repr.plot.width=6, repr.plot.height=6) \n",
    "\n",
    "persp(volcano, theta = 40, phi = 35, shade = 0.20, ltheta = 120, lphi = 30)"
   ]
  },
  {
   "cell_type": "markdown",
   "metadata": {},
   "source": [
    "> [`filled.contour {base}`](https://stat.ethz.ch/R-manual/R-devel/library/graphics/html/filled.contour.html)"
   ]
  },
  {
   "cell_type": "code",
   "execution_count": null,
   "metadata": {
    "scrolled": false
   },
   "outputs": [],
   "source": [
    "options(repr.plot.width=5, repr.plot.height=5)\n",
    "filled.contour(volcano, color = terrain.colors, asp = 1)"
   ]
  },
  {
   "cell_type": "markdown",
   "metadata": {},
   "source": [
    "> [`image {base}`](https://stat.ethz.ch/R-manual/R-devel/library/graphics/html/image.html)"
   ]
  },
  {
   "cell_type": "code",
   "execution_count": null,
   "metadata": {},
   "outputs": [],
   "source": [
    "# crea la función a graficar\n",
    "x <- y <- seq(-4*pi, 4*pi, len = 27)\n",
    "\n",
    "# r es una matriz que representa las alturas\n",
    "r <- sqrt(outer(x^2, y^2, \"+\"))\n",
    "z <- cos(r^2)*exp(-r/6)\n",
    "\n",
    "image(x = x,                        # vector que representa los valores del eje x\n",
    "      y = y,                        # vector que representa los valores del eje y\n",
    "      z = z,                        # matriz que representa las alturas para los puntos (x,y)\n",
    "      zlim = c(min(z), max(z)),     # límites \n",
    "      xlim = c(min(x), max(x)),     # límites\n",
    "      ylim = c(min(y), max(y)),     # límites\n",
    "      col = gray((0:32)/32),        # paleta de colores \n",
    "      add = FALSE,                  # se adiciona a la gráfica actual?\n",
    "      xaxs = \"i\",                   # estilo del eje x \n",
    "      yaxs = \"i\",                   # estilo del eje y\n",
    "      xlab = NULL,                  # título eje x\n",
    "      ylab = NULL)                  # título eje y\n"
   ]
  },
  {
   "cell_type": "markdown",
   "metadata": {
    "collapsed": true
   },
   "source": [
    "---"
   ]
  },
  {
   "cell_type": "markdown",
   "metadata": {},
   "source": [
    "**Ejercicio.** Construya una gráfica similar a la siguiente usando el archivo `indicadores-mundiales.csv`. Se grafica la suma del porcetaje de la población por regiones.\n",
    "\n",
    "![alt text](images/suma-pob-region-edades-1.png)"
   ]
  },
  {
   "cell_type": "markdown",
   "metadata": {},
   "source": [
    "**Ejercicio.** Construya una gráfica similar a la siguiente usando el archivo `indicadores-mundiales.csv`. Se grafica la suma del porcetaje de la población por regiones.\n",
    "\n",
    "<img src=\"images/suma-pob-region-edades-2.png\" width=700>"
   ]
  },
  {
   "cell_type": "markdown",
   "metadata": {},
   "source": [
    "**Ejercicio.** Construya una gráfica similar a la siguiente usando el archivo `indicadores-mundiales.csv`. Se grafica la suma del porcetaje de la población por regiones.\n",
    "\n",
    "<img src=\"images/suma-pob-region-edades-3.png\" width=600>"
   ]
  },
  {
   "cell_type": "markdown",
   "metadata": {},
   "source": [
    "**Ejercicio.** Construya una gráfica similar a la siguiente usando el archivo `indicadores-mundiales.csv`. Se grafica la suma del porcetaje de la población por regiones.\n",
    "\n",
    "<img src=\"images/suma-pob-region-edades-4.png\" width=500>"
   ]
  },
  {
   "cell_type": "markdown",
   "metadata": {},
   "source": [
    "**Ejercicio.** Construya una gráfica similar a la siguiente usando el archivo `indicadores-mundiales.csv`. Se grafica la suma del porcetaje de la población por regiones.\n",
    "\n",
    "<img src=\"images/suma-pob-region-edades-5.png\" width=400>"
   ]
  },
  {
   "cell_type": "markdown",
   "metadata": {},
   "source": [
    "**Ejercicio.** Construya una gráfica similar a la siguiente usando el archivo `indicadores-mundiales.csv`. Promedio de gastos per capita por año.\n",
    "\n",
    "<img src=\"images/prom-gastos-salud-per-capita-ano.png\" width=400>"
   ]
  },
  {
   "cell_type": "markdown",
   "metadata": {
    "collapsed": true
   },
   "source": [
    "**Ejercicio.** Construya una gráfica similar a la siguiente usando el archivo `indicadores-mundiales.csv`. Promedio de gastos per capita por año.\n",
    "\n",
    "<img src=\"images/prom-region-edades-ano.png\" width=400>"
   ]
  },
  {
   "cell_type": "markdown",
   "metadata": {},
   "source": [
    "---"
   ]
  },
  {
   "cell_type": "markdown",
   "metadata": {},
   "source": [
    "[Contenido](#Contenido)"
   ]
  }
 ],
 "metadata": {
  "kernelspec": {
   "display_name": "R",
   "language": "R",
   "name": "ir"
  },
  "language_info": {
   "codemirror_mode": "r",
   "file_extension": ".r",
   "mimetype": "text/x-r-source",
   "name": "R",
   "pygments_lexer": "r",
   "version": "3.5.0"
  }
 },
 "nbformat": 4,
 "nbformat_minor": 1
}
