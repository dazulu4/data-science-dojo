{
 "cells": [
  {
   "cell_type": "markdown",
   "metadata": {},
   "source": [
    "Transformación de datos\n",
    "==="
   ]
  },
  {
   "cell_type": "markdown",
   "metadata": {},
   "source": [
    "#### Contenido"
   ]
  },
  {
   "cell_type": "markdown",
   "metadata": {},
   "source": [
    "> \n",
    "  * [Tamaño del `data.frame` ](#Tamaño-del-data.frame)\n",
    "  * [Indexación por nombres de filas y columnas](#Indexación-por-nombres-de-filas-y-columnas)\n",
    "  * [Indexación numérica](#Indexación-numérica)\n",
    "  * [Indexación booleana](#Indexación-booleana)\n",
    "  * [Adición de filas](#Adición-de-filas)\n",
    "  * [Inserción de filas](#Inserción-de-filas)\n",
    "  * [Borrado de filas](#Borrado-de-filas)\n",
    "  * [Ordenación](#Ordenación)\n",
    "  * [Subconjuntos y particionamiento](#Subconjuntos-y-particionamiento)\n",
    "  * [Apilado](#Apilado)\n",
    "  * [Agregación](#Agregación)\n",
    "  * [Unión](#Unión)\n",
    "  * [Casos duplicados y casos faltantes](#Casos-duplicados-y-casos-faltantes)\n",
    "  * [Estadísticos descriptivos](#Estadísticos-descriptivos)\n",
    "  * [R dummy](#R-dummy)\n",
    "  * [R reshape](#R-reshape)\n",
    "  * [R reshape2](#R-reshape2)\n",
    "  * [R plyr](#R-plyr)\n",
    "  * [R dplyr](#R-dplyr)\n",
    "  * [R tidyr](#R-tidyr)\n",
    "  * [data.table](#data.table)\n",
    "  * [sqldf](#sqldf)"
   ]
  },
  {
   "cell_type": "markdown",
   "metadata": {},
   "source": [
    "**Datos de ejemplo.**"
   ]
  },
  {
   "cell_type": "code",
   "execution_count": null,
   "metadata": {
    "scrolled": true
   },
   "outputs": [],
   "source": [
    "x <- iris # copia del dataframe `iris`.\n",
    "str(x)    # información basica del dataframe."
   ]
  },
  {
   "cell_type": "markdown",
   "metadata": {},
   "source": [
    "# Tamaño del `data.frame` "
   ]
  },
  {
   "cell_type": "markdown",
   "metadata": {},
   "source": [
    "[Contenido](#Contenido)"
   ]
  },
  {
   "cell_type": "code",
   "execution_count": null,
   "metadata": {},
   "outputs": [],
   "source": [
    "## número de filas del dataframe\n",
    "nrow(x) "
   ]
  },
  {
   "cell_type": "code",
   "execution_count": null,
   "metadata": {},
   "outputs": [],
   "source": [
    "## número de columnas del dataframe\n",
    "ncol(x) "
   ]
  },
  {
   "cell_type": "code",
   "execution_count": null,
   "metadata": {},
   "outputs": [],
   "source": [
    "## número de columnas del dataframe\n",
    "length(x) "
   ]
  },
  {
   "cell_type": "markdown",
   "metadata": {},
   "source": [
    "# Indexación por nombres de filas y columnas"
   ]
  },
  {
   "cell_type": "markdown",
   "metadata": {},
   "source": [
    "[Contenido](#Contenido)"
   ]
  },
  {
   "cell_type": "code",
   "execution_count": null,
   "metadata": {
    "scrolled": true
   },
   "outputs": [],
   "source": [
    "## parte inicial del dataframe\n",
    "head(x)"
   ]
  },
  {
   "cell_type": "code",
   "execution_count": null,
   "metadata": {},
   "outputs": [],
   "source": [
    "## parte inicial del dataframe\n",
    "head(x, n = 3)"
   ]
  },
  {
   "cell_type": "code",
   "execution_count": null,
   "metadata": {},
   "outputs": [],
   "source": [
    "## parte final del dataframe\n",
    "tail(x)"
   ]
  },
  {
   "cell_type": "code",
   "execution_count": null,
   "metadata": {},
   "outputs": [],
   "source": [
    "## parte final del dataframe\n",
    "tail(x, n = 3)"
   ]
  },
  {
   "cell_type": "code",
   "execution_count": null,
   "metadata": {},
   "outputs": [],
   "source": [
    "## nombres de las columnas \n",
    "names(x)"
   ]
  },
  {
   "cell_type": "code",
   "execution_count": null,
   "metadata": {
    "scrolled": true
   },
   "outputs": [],
   "source": [
    "## nombres de las filas\n",
    "row.names(x)"
   ]
  },
  {
   "cell_type": "code",
   "execution_count": null,
   "metadata": {
    "scrolled": true
   },
   "outputs": [],
   "source": [
    "## creación de una nueva columna\n",
    "x$n <- 1  \n",
    "head(x)"
   ]
  },
  {
   "cell_type": "code",
   "execution_count": null,
   "metadata": {},
   "outputs": [],
   "source": [
    "## creación de una nueva columna\n",
    "x <- cbind(x, m = 1)\n",
    "head(x)"
   ]
  },
  {
   "cell_type": "code",
   "execution_count": null,
   "metadata": {
    "scrolled": true
   },
   "outputs": [],
   "source": [
    "## modificación de una columna\n",
    "x$n <- 1:150\n",
    "head(x)"
   ]
  },
  {
   "cell_type": "code",
   "execution_count": null,
   "metadata": {
    "scrolled": true
   },
   "outputs": [],
   "source": [
    "## borrado de la columna\n",
    "x <- x[,-c(6,7)]\n",
    "head(x)"
   ]
  },
  {
   "cell_type": "code",
   "execution_count": null,
   "metadata": {
    "scrolled": false
   },
   "outputs": [],
   "source": [
    "## nombres de las filas. los nombres deben ser únicos\n",
    "u <- paste('case_', 1:150, sep = '')\n",
    "head(u)"
   ]
  },
  {
   "cell_type": "code",
   "execution_count": null,
   "metadata": {
    "scrolled": true
   },
   "outputs": [],
   "source": [
    "## cambia los nombres de las filas \n",
    "row.names(x) <- u\n",
    "head(x)"
   ]
  },
  {
   "cell_type": "code",
   "execution_count": null,
   "metadata": {},
   "outputs": [],
   "source": [
    "## todas las filas y la columna Species\n",
    "head(x[,'Species'], 10)"
   ]
  },
  {
   "cell_type": "code",
   "execution_count": null,
   "metadata": {},
   "outputs": [],
   "source": [
    "## valor para una fila y columna particular\n",
    "x[3, 'Sepal.Length']"
   ]
  },
  {
   "cell_type": "code",
   "execution_count": null,
   "metadata": {
    "scrolled": true
   },
   "outputs": [],
   "source": [
    "## valor para una fila y columna particular\n",
    "x[3, c('Species', 'Sepal.Length')]"
   ]
  },
  {
   "cell_type": "code",
   "execution_count": null,
   "metadata": {},
   "outputs": [],
   "source": [
    "## selección por nombre de la fila\n",
    "x['case_3',]"
   ]
  },
  {
   "cell_type": "code",
   "execution_count": null,
   "metadata": {},
   "outputs": [],
   "source": [
    "## selección por nombre de la fila\n",
    "x[c('case_3', 'case_5'),]"
   ]
  },
  {
   "cell_type": "code",
   "execution_count": null,
   "metadata": {},
   "outputs": [],
   "source": [
    "## selección por nombres de fila y columna\n",
    "x['case_3', 'Sepal.Length']"
   ]
  },
  {
   "cell_type": "code",
   "execution_count": null,
   "metadata": {},
   "outputs": [],
   "source": [
    "## selección por nombres de fila y columna\n",
    "x[c('case_3', 'case_5'), c('Sepal.Length', 'Sepal.Width')]"
   ]
  },
  {
   "cell_type": "code",
   "execution_count": null,
   "metadata": {},
   "outputs": [],
   "source": [
    "## selección por nombre de la fila y número de las columnas\n",
    "x[c('case_3', 'case_5'), 3:5]"
   ]
  },
  {
   "cell_type": "code",
   "execution_count": null,
   "metadata": {},
   "outputs": [],
   "source": [
    "## selección por nombres de fila y columna\n",
    "x[1:3, c('Sepal.Length', 'Sepal.Width')]"
   ]
  },
  {
   "cell_type": "markdown",
   "metadata": {},
   "source": [
    "# Indexación numérica"
   ]
  },
  {
   "cell_type": "markdown",
   "metadata": {},
   "source": [
    "[Contenido](#Contenido)"
   ]
  },
  {
   "cell_type": "code",
   "execution_count": null,
   "metadata": {
    "scrolled": true
   },
   "outputs": [],
   "source": [
    "## selección de las primeras tres columnas\n",
    "head(x[,1:3])"
   ]
  },
  {
   "cell_type": "code",
   "execution_count": null,
   "metadata": {},
   "outputs": [],
   "source": [
    "## selección de las últimas tres columnas\n",
    "head(x[,-(1:(ncol(x)-3))])"
   ]
  },
  {
   "cell_type": "code",
   "execution_count": null,
   "metadata": {},
   "outputs": [],
   "source": [
    "## selección de algunas columnas\n",
    "head(x[,c(1,5)])"
   ]
  },
  {
   "cell_type": "code",
   "execution_count": null,
   "metadata": {
    "scrolled": true
   },
   "outputs": [],
   "source": [
    "## selección de las primeras 3 filas\n",
    "x[1:3,]"
   ]
  },
  {
   "cell_type": "code",
   "execution_count": null,
   "metadata": {},
   "outputs": [],
   "source": [
    "## desde la tercera hasta la última fila\n",
    "head(x[-(1:2),])"
   ]
  },
  {
   "cell_type": "code",
   "execution_count": null,
   "metadata": {
    "scrolled": true
   },
   "outputs": [],
   "source": [
    "## selección por intervalos\n",
    "u <- seq(from = 1, to = nrow(x), by = 15)\n",
    "x[u,]"
   ]
  },
  {
   "cell_type": "code",
   "execution_count": null,
   "metadata": {},
   "outputs": [],
   "source": [
    "## orden inverso\n",
    "head(x[nrow(x):1,])"
   ]
  },
  {
   "cell_type": "code",
   "execution_count": null,
   "metadata": {
    "scrolled": true
   },
   "outputs": [],
   "source": [
    "## todas las filas excepto la última\n",
    "tail(x[-nrow(x),])"
   ]
  },
  {
   "cell_type": "code",
   "execution_count": null,
   "metadata": {},
   "outputs": [],
   "source": [
    "## valores para una fila particular\n",
    "x[2,]"
   ]
  },
  {
   "cell_type": "code",
   "execution_count": null,
   "metadata": {
    "scrolled": true
   },
   "outputs": [],
   "source": [
    "## indices como vector\n",
    "x[c(2,4,6),]"
   ]
  },
  {
   "cell_type": "code",
   "execution_count": null,
   "metadata": {},
   "outputs": [],
   "source": [
    "## indices como vector\n",
    "x[c(2,4,6), c(1, 5)]"
   ]
  },
  {
   "cell_type": "markdown",
   "metadata": {},
   "source": [
    "# Indexación booleana"
   ]
  },
  {
   "cell_type": "markdown",
   "metadata": {},
   "source": [
    "[Contenido](#Contenido)"
   ]
  },
  {
   "cell_type": "code",
   "execution_count": null,
   "metadata": {},
   "outputs": [],
   "source": [
    "## selección condicional\n",
    "head(x$Species == 'virginica', 30)"
   ]
  },
  {
   "cell_type": "code",
   "execution_count": null,
   "metadata": {},
   "outputs": [],
   "source": [
    "## selección condicional\n",
    "z <- x[x$Species == 'virginica',]\n",
    "head(z)"
   ]
  },
  {
   "cell_type": "code",
   "execution_count": null,
   "metadata": {},
   "outputs": [],
   "source": [
    "## selección condicional\n",
    "z <- x[x$Petal.Length > 3.2,] \n",
    "head(z)"
   ]
  },
  {
   "cell_type": "code",
   "execution_count": null,
   "metadata": {},
   "outputs": [],
   "source": [
    "## conteo de casos\n",
    "table(z$Species)"
   ]
  },
  {
   "cell_type": "markdown",
   "metadata": {},
   "source": [
    "# Adición de filas"
   ]
  },
  {
   "cell_type": "markdown",
   "metadata": {},
   "source": [
    "[Contenido](#Contenido)"
   ]
  },
  {
   "cell_type": "code",
   "execution_count": null,
   "metadata": {},
   "outputs": [],
   "source": [
    "## adición de una fila (al final)\n",
    "u <- rbind(x, \n",
    "           c(1, 1, 1, 1, 'setosa'))\n",
    "tail(u)"
   ]
  },
  {
   "cell_type": "markdown",
   "metadata": {},
   "source": [
    "# Inserción de filas"
   ]
  },
  {
   "cell_type": "markdown",
   "metadata": {},
   "source": [
    "[Contenido](#Contenido)"
   ]
  },
  {
   "cell_type": "code",
   "execution_count": null,
   "metadata": {},
   "outputs": [],
   "source": [
    "## inserción en medio del data.frame\n",
    "u <- rbind(u[1:150,], \n",
    "           c(2, 2, 2, 2, 'setosa'),\n",
    "           u[151,])\n",
    "\n",
    "tail(u)"
   ]
  },
  {
   "cell_type": "markdown",
   "metadata": {},
   "source": [
    "# Borrado de filas"
   ]
  },
  {
   "cell_type": "markdown",
   "metadata": {},
   "source": [
    "[Contenido](#Contenido)"
   ]
  },
  {
   "cell_type": "code",
   "execution_count": null,
   "metadata": {},
   "outputs": [],
   "source": [
    "## borrado de las dos últimas filas\n",
    "u <- u[-c(151, 152),]\n",
    "tail(u)"
   ]
  },
  {
   "cell_type": "code",
   "execution_count": null,
   "metadata": {},
   "outputs": [],
   "source": [
    "## borrado de las dos últimas columnas\n",
    "w <- u[,-(4:5)]\n",
    "head(w)"
   ]
  },
  {
   "cell_type": "markdown",
   "metadata": {},
   "source": [
    "# Ordenación"
   ]
  },
  {
   "cell_type": "markdown",
   "metadata": {},
   "source": [
    "[Contenido](#Contenido)"
   ]
  },
  {
   "cell_type": "code",
   "execution_count": null,
   "metadata": {},
   "outputs": [],
   "source": [
    "## ordena por varias columnas\n",
    "## devuelve los indices de las filas\n",
    "## ordena primero por Sepal.Width y luego por Sepal.Length\n",
    "u <- order(x$Sepal.Width, x$Sepal.Length)  \n",
    "head(u)                                   "
   ]
  },
  {
   "cell_type": "code",
   "execution_count": null,
   "metadata": {},
   "outputs": [],
   "source": [
    "head(x[u,], n = 10)"
   ]
  },
  {
   "cell_type": "markdown",
   "metadata": {},
   "source": [
    "# Subconjuntos y particionamiento"
   ]
  },
  {
   "cell_type": "markdown",
   "metadata": {},
   "source": [
    "[Contenido](#Contenido)"
   ]
  },
  {
   "cell_type": "code",
   "execution_count": null,
   "metadata": {},
   "outputs": [],
   "source": [
    "## selecciona un subconjunto de los datos.\n",
    "y <- subset(x, Species == 'virginica')\n",
    "head(y)"
   ]
  },
  {
   "cell_type": "code",
   "execution_count": null,
   "metadata": {},
   "outputs": [],
   "source": [
    "## partición por los valores de la columna `Species`\n",
    "y <- split(x, x$Species)\n",
    "names(y)"
   ]
  },
  {
   "cell_type": "code",
   "execution_count": null,
   "metadata": {},
   "outputs": [],
   "source": [
    "## cantidad de grupos\n",
    "length(names(y))"
   ]
  },
  {
   "cell_type": "code",
   "execution_count": null,
   "metadata": {},
   "outputs": [],
   "source": [
    "## acceso a la información de cada subgrupo\n",
    "head(y$setosa)"
   ]
  },
  {
   "cell_type": "code",
   "execution_count": null,
   "metadata": {},
   "outputs": [],
   "source": [
    "## acceso a la información de cada subgrupo\n",
    "head(y$virginica)"
   ]
  },
  {
   "cell_type": "markdown",
   "metadata": {},
   "source": [
    "# Apilado"
   ]
  },
  {
   "cell_type": "markdown",
   "metadata": {},
   "source": [
    "[Contenido](#Contenido)"
   ]
  },
  {
   "cell_type": "code",
   "execution_count": null,
   "metadata": {
    "scrolled": true
   },
   "outputs": [],
   "source": [
    "## se crea un nuevo data.frame a partir de \n",
    "## los grupos obtenidos con split.\n",
    "## no es posible apilar data.frames con diferentes\n",
    "## columnas\n",
    "z <- rbind(y$virginica, \n",
    "           y$setosa, \n",
    "           y$versicolor)\n",
    "head(z)\n",
    "table(z$Species)"
   ]
  },
  {
   "cell_type": "markdown",
   "metadata": {},
   "source": [
    "# Agregación"
   ]
  },
  {
   "cell_type": "markdown",
   "metadata": {},
   "source": [
    "[Contenido](#Contenido)"
   ]
  },
  {
   "cell_type": "markdown",
   "metadata": {},
   "source": [
    "> [`table {base}`](https://stat.ethz.ch/R-manual/R-devel/library/base/html/table.html) "
   ]
  },
  {
   "cell_type": "code",
   "execution_count": null,
   "metadata": {},
   "outputs": [],
   "source": [
    "## conteo de casos.\n",
    "## número de casos por `Species`\n",
    "table(x$Species)"
   ]
  },
  {
   "cell_type": "code",
   "execution_count": null,
   "metadata": {},
   "outputs": [],
   "source": [
    "## conteo de casos por `Sepal.Length`\n",
    "table(x$Sepal.Length)"
   ]
  },
  {
   "cell_type": "markdown",
   "metadata": {},
   "source": [
    "> [`lapply {base}`](https://stat.ethz.ch/R-manual/R-devel/library/base/html/lapply.html)"
   ]
  },
  {
   "cell_type": "code",
   "execution_count": null,
   "metadata": {},
   "outputs": [],
   "source": [
    "## aplicación de una funcion a columnas especificas \n",
    "## de un data.frame\n",
    "u <- lapply(X = x[, c('Sepal.Length', 'Sepal.Width')], \n",
    "            FUN = mean)\n",
    "\n",
    "u"
   ]
  },
  {
   "cell_type": "code",
   "execution_count": null,
   "metadata": {},
   "outputs": [],
   "source": [
    "## aplicación de una funcion a columnas especificas \n",
    "## de un data.frame\n",
    "u <- sapply(X = x[, c('Sepal.Length', 'Sepal.Width')], \n",
    "            FUN = mean)\n",
    "\n",
    "u"
   ]
  },
  {
   "cell_type": "code",
   "execution_count": null,
   "metadata": {},
   "outputs": [],
   "source": [
    "## aplica la función a la columna especificada por grupos\n",
    "y <- split(x, x$Species)\n",
    "u <- sapply(y, \n",
    "            function(x) mean(x$Sepal.Length))\n",
    "u"
   ]
  },
  {
   "cell_type": "code",
   "execution_count": null,
   "metadata": {},
   "outputs": [],
   "source": [
    "## aplica la función a la columna especificada por grupos\n",
    "y <- split(x, x$Species)\n",
    "u <- sapply(y, \n",
    "            function(x) c(mean(x$Sepal.Length),\n",
    "                          mean(x$Sepal.Width),\n",
    "                          mean(x$Petal.Length),\n",
    "                          mean(x$Petal.Width)))\n",
    "u"
   ]
  },
  {
   "cell_type": "code",
   "execution_count": null,
   "metadata": {},
   "outputs": [],
   "source": [
    "## agregación usando una fórmula\n",
    "aggregate(. ~ Species, \n",
    "          data = x, \n",
    "          mean)"
   ]
  },
  {
   "cell_type": "markdown",
   "metadata": {},
   "source": [
    "# Unión"
   ]
  },
  {
   "cell_type": "markdown",
   "metadata": {},
   "source": [
    "[Contenido](#Contenido)"
   ]
  },
  {
   "cell_type": "code",
   "execution_count": null,
   "metadata": {
    "scrolled": true
   },
   "outputs": [],
   "source": [
    "## no es una unión estrictamente.\n",
    "## solo funciona cuando un dataframe tiene un número de\n",
    "## filas múltiplo del otro.\n",
    "d1 <- data.frame(x = 1:5, y = runif(5))\n",
    "d2 <- data.frame(z = 1:10, w = runif(10))\n",
    "cbind(d1, d2)"
   ]
  },
  {
   "cell_type": "markdown",
   "metadata": {},
   "source": [
    "# Casos duplicados y casos faltantes"
   ]
  },
  {
   "cell_type": "markdown",
   "metadata": {},
   "source": [
    "[Contenido](#Contenido)"
   ]
  },
  {
   "cell_type": "code",
   "execution_count": null,
   "metadata": {},
   "outputs": [],
   "source": [
    "## se crea un vector aleatorio de indices\n",
    "u <- sample(1:150,            # población\n",
    "            size = 20,        # tamaño de la muestra\n",
    "            replace = TRUE)   # se puede repetir elementos?\n",
    "\n",
    "print(sort(u))"
   ]
  },
  {
   "cell_type": "code",
   "execution_count": null,
   "metadata": {},
   "outputs": [],
   "source": [
    "## submuestra del data.frame original `x`\n",
    "y <- x[u,]  \n",
    "str(y)"
   ]
  },
  {
   "cell_type": "code",
   "execution_count": null,
   "metadata": {},
   "outputs": [],
   "source": [
    "## cambia los nombres de las filas \n",
    "row.names(y) <- 151:170\n",
    "head(y)"
   ]
  },
  {
   "cell_type": "code",
   "execution_count": null,
   "metadata": {},
   "outputs": [],
   "source": [
    "## de la submuestra `y` se hacen varios registros incompletos\n",
    "## cambiando varios valores en la columna `Sepal.Length` por NA\n",
    "y$Sepal.Length[sample(1:20, 10, replace = FALSE)] <- NA\n",
    "str(y)"
   ]
  },
  {
   "cell_type": "code",
   "execution_count": null,
   "metadata": {},
   "outputs": [],
   "source": [
    "## casos con datos faltantes \n",
    "head(y, n = 20)"
   ]
  },
  {
   "cell_type": "code",
   "execution_count": null,
   "metadata": {},
   "outputs": [],
   "source": [
    "## apilado de dataframes \n",
    "## los casos 151 a 170 contienen casos duplicados o\n",
    "## casos con datos faltantes\n",
    "x <- rbind(x, y)  \n",
    "str(x)"
   ]
  },
  {
   "cell_type": "code",
   "execution_count": null,
   "metadata": {},
   "outputs": [],
   "source": [
    "## parte final del nuevo data.frame\n",
    "tail(x, n = 10)"
   ]
  },
  {
   "cell_type": "code",
   "execution_count": null,
   "metadata": {},
   "outputs": [],
   "source": [
    "## casos únicos o no duplicados \n",
    "## incluye los casos con valores NA como únicos\n",
    "## note que se eliminaron varios casos entre el 151 y el 170\n",
    "tail(unique(x), n = 20)"
   ]
  },
  {
   "cell_type": "code",
   "execution_count": null,
   "metadata": {},
   "outputs": [],
   "source": [
    "## casos completos (sin faltantes)\n",
    "table(complete.cases(x))  "
   ]
  },
  {
   "cell_type": "code",
   "execution_count": null,
   "metadata": {},
   "outputs": [],
   "source": [
    "## selección de casos incompletos\n",
    "x[!complete.cases(x),]  "
   ]
  },
  {
   "cell_type": "code",
   "execution_count": null,
   "metadata": {},
   "outputs": [],
   "source": [
    "## selección de casos duplicados\n",
    "x[duplicated(x),]"
   ]
  },
  {
   "cell_type": "code",
   "execution_count": null,
   "metadata": {},
   "outputs": [],
   "source": [
    "## ops! el registro 143 aparece duplicado?\n",
    "## se verifica en el data.frame original\n",
    "iris[duplicated(iris),]"
   ]
  },
  {
   "cell_type": "code",
   "execution_count": null,
   "metadata": {},
   "outputs": [],
   "source": [
    "u <- x[!duplicated(x),]      ## selecciona los casos no duplicados\n",
    "u <- u[complete.cases(u),]   ## y que estén completos\n",
    "str(u)"
   ]
  },
  {
   "cell_type": "code",
   "execution_count": null,
   "metadata": {},
   "outputs": [],
   "source": [
    "## número de casos completos (sin datos faltantes)\n",
    "table(complete.cases(u))  "
   ]
  },
  {
   "cell_type": "markdown",
   "metadata": {},
   "source": [
    "# Estadísticos descriptivos"
   ]
  },
  {
   "cell_type": "markdown",
   "metadata": {},
   "source": [
    "[Contenido](#Contenido)"
   ]
  },
  {
   "cell_type": "code",
   "execution_count": null,
   "metadata": {},
   "outputs": [],
   "source": [
    "## resumen de estadísticos descriptivos\n",
    "summary(iris)"
   ]
  },
  {
   "cell_type": "markdown",
   "metadata": {},
   "source": [
    "# R dummy"
   ]
  },
  {
   "cell_type": "markdown",
   "metadata": {},
   "source": [
    "[Contenido](#Contenido)"
   ]
  },
  {
   "cell_type": "markdown",
   "metadata": {},
   "source": [
    "> [`R dummy`](https://cran.r-project.org/web/packages/dummies/)  \n",
    "`Create dummy/indicator variables flexibly and efficiently`"
   ]
  },
  {
   "cell_type": "code",
   "execution_count": null,
   "metadata": {},
   "outputs": [],
   "source": [
    "library(dummy)"
   ]
  },
  {
   "cell_type": "code",
   "execution_count": null,
   "metadata": {
    "scrolled": true
   },
   "outputs": [],
   "source": [
    "## crea una variable dummy por cada valor de una variable categórica\n",
    "y <- dummy(iris)\n",
    "print(y$Species_setosa)\n",
    "print(y$Species_virginica)"
   ]
  },
  {
   "cell_type": "markdown",
   "metadata": {},
   "source": [
    "# R reshape"
   ]
  },
  {
   "cell_type": "markdown",
   "metadata": {},
   "source": [
    "[Contenido](#Contenido)"
   ]
  },
  {
   "cell_type": "markdown",
   "metadata": {},
   "source": [
    "> [`R reshape`](https://cran.r-project.org/web/packages/reshape/index.html)  \n",
    "`Flexibly reshape data`  "
   ]
  },
  {
   "cell_type": "code",
   "execution_count": null,
   "metadata": {},
   "outputs": [],
   "source": [
    "library(reshape)"
   ]
  },
  {
   "cell_type": "code",
   "execution_count": null,
   "metadata": {},
   "outputs": [],
   "source": [
    "## Tablas dinámicas\n",
    "m <- data.frame(key1    = rep(letters[1:3], each = 2),\n",
    "                key2    = rep(LETTERS[1:2], 3),\n",
    "                values1 = 1:6,\n",
    "                values2 = 7:12,\n",
    "                stringsAsFactors = FALSE)\n",
    "\n",
    "m"
   ]
  },
  {
   "cell_type": "code",
   "execution_count": null,
   "metadata": {},
   "outputs": [],
   "source": [
    "#Sirve para realizar pivot de una tabla\n",
    "cast(data = m, \n",
    "     formula = key2~key1, \n",
    "     value = 'values2')"
   ]
  },
  {
   "cell_type": "code",
   "execution_count": null,
   "metadata": {
    "scrolled": true
   },
   "outputs": [],
   "source": [
    "cast(data = m, \n",
    "     formula = key1~key2, \n",
    "     value = 'values2')"
   ]
  },
  {
   "cell_type": "markdown",
   "metadata": {},
   "source": [
    "# R reshape2"
   ]
  },
  {
   "cell_type": "markdown",
   "metadata": {},
   "source": [
    "[Contenido](#Contenido)"
   ]
  },
  {
   "cell_type": "markdown",
   "metadata": {},
   "source": [
    "> [`R reshape2`](https://cran.r-project.org/web/packages/reshape2/index.html)  \n",
    "`Flexibly Reshape Data: A Reboot of the Reshape Package`"
   ]
  },
  {
   "cell_type": "code",
   "execution_count": null,
   "metadata": {},
   "outputs": [],
   "source": [
    "library(reshape2)"
   ]
  },
  {
   "cell_type": "code",
   "execution_count": null,
   "metadata": {},
   "outputs": [],
   "source": [
    "# reshape2 convierte los nombres de las columnas a campos \n",
    "# de la columna `variable` y los correspondientes valores \n",
    "# de las columnas los apila en la columna `value` y \n",
    "# viceversa.\n",
    "\n",
    "x <- iris # copia del dataframe `iris`.\n",
    "\n",
    "# agrega una columna de indices.\n",
    "x$n = 1:nrow(x)  \n",
    "\n",
    "# los campos `Species` y `n` conforman una clave para la tabla.\n",
    "g <- melt(x, id.vars = c('Species', 'n'))\n",
    "head(g, n = 10)\n",
    "cat('\\n')\n",
    "tail(g, n = 10)"
   ]
  },
  {
   "cell_type": "code",
   "execution_count": null,
   "metadata": {
    "scrolled": true
   },
   "outputs": [],
   "source": [
    "## hace el proceso inverso de `melt`\n",
    "## note que se cambio el orden de las columnas\n",
    "head(dcast(g, Species + n ~ variable ), 10)"
   ]
  },
  {
   "cell_type": "markdown",
   "metadata": {},
   "source": [
    "#  R plyr"
   ]
  },
  {
   "cell_type": "markdown",
   "metadata": {},
   "source": [
    "[Contenido](#Contenido)"
   ]
  },
  {
   "cell_type": "markdown",
   "metadata": {},
   "source": [
    "> [`R plyr`](https://cran.r-project.org/web/packages/plyr/index.html)  \n",
    "`Tools for Splitting, Applying and Combining Data`"
   ]
  },
  {
   "cell_type": "code",
   "execution_count": null,
   "metadata": {},
   "outputs": [],
   "source": [
    "library(plyr)  "
   ]
  },
  {
   "cell_type": "code",
   "execution_count": null,
   "metadata": {
    "scrolled": true
   },
   "outputs": [],
   "source": [
    "## suma la columna `Sepal.Length` por cada valor diferente en `Species` \n",
    "print(ddply(iris, ~Species, summarise, sum.Sepal.Length = sum(Sepal.Length)))"
   ]
  },
  {
   "cell_type": "code",
   "execution_count": null,
   "metadata": {
    "scrolled": false
   },
   "outputs": [],
   "source": [
    "## ordena por las `Species` y luego `Sepal.Length`\n",
    "print(head(arrange(iris, Species, Sepal.Length), n = 10))"
   ]
  },
  {
   "cell_type": "code",
   "execution_count": null,
   "metadata": {},
   "outputs": [],
   "source": [
    "## hace un `join` a dos dataframes.\n",
    "keys <- rep(x = LETTERS[1:2], times = 2)\n",
    "x.values <- paste('x', 1:4, sep = '.')\n",
    "x <- data.frame(keys, \n",
    "                x.values,\n",
    "                stringsAsFactors = FALSE)\n",
    "\n",
    "keys <- rep(x = LETTERS[2:3], each = 2)\n",
    "y.values <- paste('y', 1:4, sep = '.')\n",
    "y <- data.frame(keys, \n",
    "                y.values, \n",
    "                stringsAsFactors = FALSE)\n",
    "\n",
    "cat('-- data.frame x --\\n')\n",
    "print(x)\n",
    "cat('\\n')\n",
    "cat('-- data.frame y --\\n')\n",
    "print(y)"
   ]
  },
  {
   "cell_type": "code",
   "execution_count": null,
   "metadata": {},
   "outputs": [],
   "source": [
    "## operacion left_join\n",
    "w <- join(x = x, \n",
    "          y = y, \n",
    "          by = 'keys')\n",
    "\n",
    "print(w)"
   ]
  },
  {
   "cell_type": "code",
   "execution_count": null,
   "metadata": {},
   "outputs": [],
   "source": [
    "## operacion left_join\n",
    "w <- join(x = y, \n",
    "          y = x, \n",
    "          by = 'keys')\n",
    "\n",
    "print(w)"
   ]
  },
  {
   "cell_type": "markdown",
   "metadata": {},
   "source": [
    "#  R dplyr"
   ]
  },
  {
   "cell_type": "markdown",
   "metadata": {},
   "source": [
    "[Contenido](#Contenido)"
   ]
  },
  {
   "cell_type": "markdown",
   "metadata": {},
   "source": [
    "> [`R dplyr`](https://cran.r-project.org/web/packages/dplyr/index.html)  \n",
    "`A Grammar of Data Manipulation`"
   ]
  },
  {
   "cell_type": "code",
   "execution_count": null,
   "metadata": {},
   "outputs": [],
   "source": [
    "library(dplyr)"
   ]
  },
  {
   "cell_type": "code",
   "execution_count": null,
   "metadata": {},
   "outputs": [],
   "source": [
    "## nombres de las filas del data.frame `x`\n",
    "print(row.names(x))"
   ]
  },
  {
   "cell_type": "code",
   "execution_count": null,
   "metadata": {
    "scrolled": true
   },
   "outputs": [],
   "source": [
    "## convierte los nombres de las filas en una\n",
    "## variable del data.frame\n",
    "y <- add_rownames(x, var = 'nombre_')\n",
    "print(head(y, 10))"
   ]
  },
  {
   "cell_type": "code",
   "execution_count": null,
   "metadata": {},
   "outputs": [],
   "source": [
    "## ordenación del data.frame\n",
    "print(head( arrange(iris, Sepal.Length, Sepal.Width) ))"
   ]
  },
  {
   "cell_type": "code",
   "execution_count": null,
   "metadata": {},
   "outputs": [],
   "source": [
    "## Operaciones join.\n",
    "## se crean dos dataframes\n",
    "\n",
    "keys <- rep(x = LETTERS[c(1,3)], times = 2)\n",
    "x.values <- paste('x.row', 1:4, sep = '_')\n",
    "groups <- c(rep(1,3), 2)\n",
    "x <- data.frame(keys, \n",
    "                groups,\n",
    "                x.values,\n",
    "                stringsAsFactors = FALSE)\n",
    "\n",
    "keys <- rep(x = LETTERS[3:4], each = 2)\n",
    "y.values <- paste('y.row', 1:4, sep = '_')\n",
    "y <- data.frame(keys, \n",
    "                y.values, \n",
    "                stringsAsFactors = FALSE)\n",
    "\n",
    "cat('-- data.frame x --\\n')\n",
    "print(x)\n",
    "cat('\\n')\n",
    "cat('-- data.frame y --\\n')\n",
    "print(y)"
   ]
  },
  {
   "cell_type": "code",
   "execution_count": null,
   "metadata": {},
   "outputs": [],
   "source": [
    "## intersección de los registros en `x` y en `y`\n",
    "print( inner_join(x, y, by = 'keys') )"
   ]
  },
  {
   "cell_type": "code",
   "execution_count": null,
   "metadata": {},
   "outputs": [],
   "source": [
    "## todos los registros en `x`, y los \n",
    "## correspondientes valores en `y`\n",
    "print( left_join(x, y, by = 'keys') )"
   ]
  },
  {
   "cell_type": "code",
   "execution_count": null,
   "metadata": {},
   "outputs": [],
   "source": [
    "## todos los registros en `y` y \n",
    "## los valores correspondientes en `x`\n",
    "print( right_join(x, y, by = 'keys') )"
   ]
  },
  {
   "cell_type": "code",
   "execution_count": null,
   "metadata": {},
   "outputs": [],
   "source": [
    "## claves en `x`  para las que hay claves en `y`\n",
    "print( semi_join(x, y, by = 'keys') )"
   ]
  },
  {
   "cell_type": "code",
   "execution_count": null,
   "metadata": {},
   "outputs": [],
   "source": [
    "## registros que no están en `y`\n",
    "print( anti_join(x, y, by = 'keys') )"
   ]
  },
  {
   "cell_type": "code",
   "execution_count": null,
   "metadata": {
    "scrolled": true
   },
   "outputs": [],
   "source": [
    "## todos los registros en `x` y en `y` \n",
    "print( full_join(x, y, by = 'keys') )"
   ]
  },
  {
   "cell_type": "code",
   "execution_count": null,
   "metadata": {},
   "outputs": [],
   "source": [
    "## filtrado\n",
    "w <- full_join(x, y, by = 'keys')\n",
    "print(filter(w, keys == 'C'))"
   ]
  },
  {
   "cell_type": "code",
   "execution_count": null,
   "metadata": {},
   "outputs": [],
   "source": [
    "## select\n",
    "print(select(w, keys, groups))"
   ]
  },
  {
   "cell_type": "code",
   "execution_count": null,
   "metadata": {},
   "outputs": [],
   "source": [
    "## muestreo aleatorio de filas\n",
    "print(sample_n(w, 4))"
   ]
  },
  {
   "cell_type": "code",
   "execution_count": null,
   "metadata": {},
   "outputs": [],
   "source": [
    "## agregación\n",
    "by_keys <- group_by(w, keys)\n",
    "print(summarise(by_keys, count = n()))\n",
    "head(w)"
   ]
  },
  {
   "cell_type": "markdown",
   "metadata": {
    "scrolled": true
   },
   "source": [
    "#  R tidyr"
   ]
  },
  {
   "cell_type": "markdown",
   "metadata": {},
   "source": [
    "[Contenido](#Contenido)"
   ]
  },
  {
   "cell_type": "markdown",
   "metadata": {},
   "source": [
    "> [`R tidyr`](https://cran.r-project.org/web/packages/tidyr/index.html)  \n",
    "`Easily Tidy Data with 'spread()' and 'gather()' Functions`"
   ]
  },
  {
   "cell_type": "code",
   "execution_count": null,
   "metadata": {},
   "outputs": [],
   "source": [
    "library(tidyr)"
   ]
  },
  {
   "cell_type": "code",
   "execution_count": null,
   "metadata": {
    "scrolled": true
   },
   "outputs": [],
   "source": [
    "z <- as_data_frame(x)\n",
    "print(z)"
   ]
  },
  {
   "cell_type": "code",
   "execution_count": null,
   "metadata": {},
   "outputs": [],
   "source": [
    "## completa la secuencia (con valores unicos)\n",
    "## para cada cada una de las columnas\n",
    "w <- z %>% expand(keys, groups)\n",
    "print(w)"
   ]
  },
  {
   "cell_type": "code",
   "execution_count": null,
   "metadata": {},
   "outputs": [],
   "source": [
    "## hace explicita la secuencia llenando con NAs \n",
    "## las combinaciones faltantes\n",
    "print(z)\n",
    "cat('\\n\\n')\n",
    "w <- z %>% complete(keys, groups)\n",
    "print(w)"
   ]
  },
  {
   "cell_type": "code",
   "execution_count": null,
   "metadata": {
    "scrolled": true
   },
   "outputs": [],
   "source": [
    "## completa las secuencias\n",
    "w <- z %>% expand(keys, groups)\n",
    "print(w)"
   ]
  },
  {
   "cell_type": "code",
   "execution_count": null,
   "metadata": {},
   "outputs": [],
   "source": [
    "## completa las secuencias\n",
    "w <- z %>% expand(keys = LETTERS[1:4], groups = 1:3)\n",
    "print(w)"
   ]
  },
  {
   "cell_type": "code",
   "execution_count": null,
   "metadata": {},
   "outputs": [],
   "source": [
    "## reescribe el dataset\n",
    "print(z)\n",
    "cat('\\n\\n')\n",
    "w <- z %>% gather(keys, groups, -x.values)\n",
    "print(w)"
   ]
  },
  {
   "cell_type": "code",
   "execution_count": null,
   "metadata": {},
   "outputs": [],
   "source": [
    "## convierte valores en columnas y viceversa.\n",
    "print(z)\n",
    "cat('\\n\\n')\n",
    "print(z %>% spread(groups, keys))"
   ]
  },
  {
   "cell_type": "code",
   "execution_count": null,
   "metadata": {},
   "outputs": [],
   "source": [
    "## convierte valores en columnas y viceversa.\n",
    "print(z %>% spread(keys, groups))"
   ]
  },
  {
   "cell_type": "markdown",
   "metadata": {},
   "source": [
    "# data.table"
   ]
  },
  {
   "cell_type": "markdown",
   "metadata": {},
   "source": [
    "[Contenido](#Contenido)"
   ]
  },
  {
   "cell_type": "markdown",
   "metadata": {},
   "source": [
    "> [`R data.table`](https://cran.r-project.org/web/packages/data.table/index.html)  \n",
    "`Extension of Data.frame`"
   ]
  },
  {
   "cell_type": "markdown",
   "metadata": {},
   "source": [
    "Este paquete presenta una funcionalidad similar a los data.frame y esta optimizada para el manejo de grandes cantidades de datos."
   ]
  },
  {
   "cell_type": "code",
   "execution_count": null,
   "metadata": {},
   "outputs": [],
   "source": [
    "library(data.table)"
   ]
  },
  {
   "cell_type": "code",
   "execution_count": null,
   "metadata": {},
   "outputs": [],
   "source": [
    "DT <- data.table(A = rep(1:3, each=4), \n",
    "                 B = rep(1:4, each=3), \n",
    "                 C = rep(1:2, 6), \n",
    "                 key = \"A,B\") \n",
    "print(DT)"
   ]
  },
  {
   "cell_type": "code",
   "execution_count": null,
   "metadata": {},
   "outputs": [],
   "source": [
    "## casos duplicados\n",
    "w <- DT[duplicated(DT),]\n",
    "print(w)"
   ]
  },
  {
   "cell_type": "code",
   "execution_count": null,
   "metadata": {},
   "outputs": [],
   "source": [
    "w <- DT[duplicated(DT, by=\"B\"),]\n",
    "print(w)"
   ]
  },
  {
   "cell_type": "code",
   "execution_count": null,
   "metadata": {},
   "outputs": [],
   "source": [
    "## casos únicos\n",
    "print(unique(DT))"
   ]
  },
  {
   "cell_type": "code",
   "execution_count": null,
   "metadata": {},
   "outputs": [],
   "source": [
    "print( unique(DT, by=c(\"A\", \"C\")) )"
   ]
  },
  {
   "cell_type": "code",
   "execution_count": null,
   "metadata": {},
   "outputs": [],
   "source": []
  },
  {
   "cell_type": "markdown",
   "metadata": {},
   "source": [
    "# sqldf"
   ]
  },
  {
   "cell_type": "markdown",
   "metadata": {},
   "source": [
    "[Contenido](#Contenido)"
   ]
  },
  {
   "cell_type": "markdown",
   "metadata": {},
   "source": [
    "> [`R sqldf`](https://github.com/ggrothendieck/sqldf)  \n",
    "`Perform SQL Selects on R Data Frames`"
   ]
  },
  {
   "cell_type": "markdown",
   "metadata": {},
   "source": [
    "  \n",
    "Los ejemplos presentados son adaptados de la página web del paquete.  "
   ]
  },
  {
   "cell_type": "code",
   "execution_count": null,
   "metadata": {},
   "outputs": [],
   "source": [
    "## carga la librería\n",
    "library(sqldf)"
   ]
  },
  {
   "cell_type": "code",
   "execution_count": null,
   "metadata": {
    "scrolled": false
   },
   "outputs": [],
   "source": [
    "## selección de un conjunto de registros ordenados\n",
    "sqldf('select * from iris order by \"Sepal.Length\" desc limit 3')"
   ]
  },
  {
   "cell_type": "code",
   "execution_count": null,
   "metadata": {},
   "outputs": [],
   "source": [
    "## agrupamiento\n",
    "sqldf('select Species, avg(\"Sepal.Length\") from iris group by Species')"
   ]
  },
  {
   "cell_type": "code",
   "execution_count": null,
   "metadata": {
    "scrolled": true
   },
   "outputs": [],
   "source": [
    "## selección condicional\n",
    "sqlquery = 'select * from iris where species = \"setosa\" and \"Sepal.Length\" > 5.2' \n",
    "sqldf(sqlquery, stringsAsFactors = FALSE)"
   ]
  },
  {
   "cell_type": "code",
   "execution_count": null,
   "metadata": {
    "scrolled": false
   },
   "outputs": [],
   "source": [
    "## lectura desde un archivo csv\n",
    "sqlquery = 'select * from iris where species = \"setosa\" and \"Sepal.Length\" > 5.2' \n",
    "read.csv.sql(file='files/iris.csv', \n",
    "             sql = sqlquery)"
   ]
  },
  {
   "cell_type": "markdown",
   "metadata": {},
   "source": [
    "---"
   ]
  },
  {
   "cell_type": "markdown",
   "metadata": {},
   "source": [
    "[Contenido](#Contenido)"
   ]
  }
 ],
 "metadata": {
  "kernelspec": {
   "display_name": "R",
   "language": "R",
   "name": "ir"
  },
  "language_info": {
   "codemirror_mode": "r",
   "file_extension": ".r",
   "mimetype": "text/x-r-source",
   "name": "R",
   "pygments_lexer": "r",
   "version": "3.5.0"
  }
 },
 "nbformat": 4,
 "nbformat_minor": 1
}
