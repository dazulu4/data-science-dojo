{
 "cells": [
  {
   "cell_type": "markdown",
   "metadata": {},
   "source": [
    "Visualización de datos\n",
    "==="
   ]
  },
  {
   "cell_type": "markdown",
   "metadata": {},
   "source": [
    "#### Contenido"
   ]
  },
  {
   "cell_type": "markdown",
   "metadata": {},
   "source": [
    "> * [Matplotlib](#Matplotlib)\n",
    "* [ggplot2](#ggplot2)"
   ]
  },
  {
   "cell_type": "markdown",
   "metadata": {},
   "source": [
    "# Matplotlib"
   ]
  },
  {
   "cell_type": "markdown",
   "metadata": {},
   "source": [
    "[Contenido](#Contenido)"
   ]
  },
  {
   "cell_type": "markdown",
   "metadata": {},
   "source": [
    "Existen varios recursos externos para el aprendizaje de matpotlib. Algunos son listados [aquí](http://matplotlib.org/resources/index.html).\n",
    "\n",
    "[Aquí](http://nbviewer.jupyter.org/github/jrjohansson/scientific-python-lectures/blob/master/Lecture-4-Matplotlib.ipynb) hay un tutorial escrito en Jupyter sobre matplotlib que ilustra como resolver muchos problemas comunes en la elaboración de gráficos. \n",
    "\n",
    "A continuación hay varios ejemplos autoexplicativos que tienen como fin ilustrar rápidamente las capacidades básicas de matplotlib. \n",
    "\n",
    "Para manejar la librería, usualmente se define el tipo de gráfico que se necesita y se buscan ejemplos con características similares en la [galería](http://matplotlib.org/gallery.html). "
   ]
  },
  {
   "cell_type": "code",
   "execution_count": null,
   "metadata": {},
   "outputs": [],
   "source": [
    "import numpy as np\n",
    "import matplotlib.pyplot as plt\n",
    "import matplotlib as mpl\n",
    "%matplotlib inline"
   ]
  },
  {
   "cell_type": "code",
   "execution_count": null,
   "metadata": {},
   "outputs": [],
   "source": [
    "x = range(100)\n",
    "y = [value ** 2 for value in x]\n",
    "plt.plot(x, y)\n",
    "plt.show()"
   ]
  },
  {
   "cell_type": "code",
   "execution_count": null,
   "metadata": {},
   "outputs": [],
   "source": [
    "import math\n",
    "T = range(100)\n",
    "X = [(2 * math.pi * t) / len(T) for t in T]\n",
    "Y = [math.sin(value) for value in X]\n",
    "plt.plot(X, Y)\n"
   ]
  },
  {
   "cell_type": "code",
   "execution_count": null,
   "metadata": {},
   "outputs": [],
   "source": [
    "data = [5., 25., 50., 20.]\n",
    "plt.bar(range(len(data)), data)\n",
    "plt.show()"
   ]
  },
  {
   "cell_type": "code",
   "execution_count": null,
   "metadata": {},
   "outputs": [],
   "source": [
    "data = [5., 25., 50., 20.]\n",
    "plt.barh(range(len(data)), data)\n",
    "plt.show()"
   ]
  },
  {
   "cell_type": "code",
   "execution_count": null,
   "metadata": {},
   "outputs": [],
   "source": [
    "data = [[5., 25., 50., 20.],\n",
    "        [4., 23., 51., 17.],\n",
    "        [6., 22., 52., 19.]]\n",
    "X = np.arange(4)\n",
    "plt.bar(X + 0.00, data[0], color = 'b', width = 0.25)\n",
    "plt.bar(X + 0.25, data[1], color = 'g', width = 0.25)\n",
    "plt.bar(X + 0.50, data[2], color = 'r', width = 0.25)\n",
    "plt.show()"
   ]
  },
  {
   "cell_type": "code",
   "execution_count": null,
   "metadata": {},
   "outputs": [],
   "source": [
    "X = np.random.randn(1000)\n",
    "plt.hist(X, bins = 20)\n",
    "plt.show()"
   ]
  },
  {
   "cell_type": "code",
   "execution_count": null,
   "metadata": {},
   "outputs": [],
   "source": [
    "data = np.random.randn(100)\n",
    "plt.boxplot(data)\n",
    "plt.show()"
   ]
  },
  {
   "cell_type": "code",
   "execution_count": null,
   "metadata": {},
   "outputs": [],
   "source": [
    "data = np.random.randn(100, 5)\n",
    "plt.boxplot(data)\n",
    "plt.show()"
   ]
  },
  {
   "cell_type": "code",
   "execution_count": null,
   "metadata": {},
   "outputs": [],
   "source": [
    "import numpy as np\n",
    "import matplotlib.pyplot as plt\n",
    "import matplotlib.tri as tri\n",
    "data = np.random.rand(100, 2)\n",
    "triangles = tri.Triangulation(data[:,0], data[:,1])\n",
    "plt.triplot(triangles)\n",
    "plt.show()"
   ]
  },
  {
   "cell_type": "code",
   "execution_count": null,
   "metadata": {},
   "outputs": [],
   "source": [
    "import numpy as np\n",
    "import matplotlib.pyplot as plt\n",
    "A = np.random.standard_normal((100, 2))\n",
    "A += np.array((-1, -1)) # Center the distrib. at <-1, -1>\n",
    "B = np.random.standard_normal((100, 2))\n",
    "B += np.array((1, 1)) # Center the distrib. at <1, 1>\n",
    "plt.scatter(A[:,0], A[:,1], color = '.25')\n",
    "plt.scatter(B[:,0], B[:,1], color = '.75')\n",
    "plt.show()"
   ]
  },
  {
   "cell_type": "markdown",
   "metadata": {},
   "source": [
    "---"
   ]
  },
  {
   "cell_type": "markdown",
   "metadata": {},
   "source": [
    "**Ejercicio.** Construya una gráfica similar a la siguiente usando el archivo `indicadores-mundiales.csv`. Se grafica la suma del porcetaje de la población por regiones.\n",
    "\n",
    "![alt text](images/suma-pob-region-edades-1.png)"
   ]
  },
  {
   "cell_type": "markdown",
   "metadata": {},
   "source": [
    "**Ejercicio.** Construya una gráfica similar a la siguiente usando el archivo `indicadores-mundiales.csv`. Se grafica la suma del porcetaje de la población por regiones.\n",
    "\n",
    "<img src=\"images/suma-pob-region-edades-2.png\" width=700>"
   ]
  },
  {
   "cell_type": "markdown",
   "metadata": {},
   "source": [
    "**Ejercicio.** Construya una gráfica similar a la siguiente usando el archivo `indicadores-mundiales.csv`. Se grafica la suma del porcetaje de la población por regiones.\n",
    "\n",
    "<img src=\"images/suma-pob-region-edades-3.png\" width=600>"
   ]
  },
  {
   "cell_type": "markdown",
   "metadata": {},
   "source": [
    "**Ejercicio.** Construya una gráfica similar a la siguiente usando el archivo `indicadores-mundiales.csv`. Se grafica la suma del porcetaje de la población por regiones.\n",
    "\n",
    "<img src=\"images/suma-pob-region-edades-4.png\" width=500>"
   ]
  },
  {
   "cell_type": "markdown",
   "metadata": {},
   "source": [
    "**Ejercicio.** Construya una gráfica similar a la siguiente usando el archivo `indicadores-mundiales.csv`. Se grafica la suma del porcetaje de la población por regiones.\n",
    "\n",
    "<img src=\"images/suma-pob-region-edades-5.png\" width=400>"
   ]
  },
  {
   "cell_type": "markdown",
   "metadata": {},
   "source": [
    "**Ejercicio.** Construya una gráfica similar a la siguiente usando el archivo `indicadores-mundiales.csv`. Promedio de gastos per capita por año.\n",
    "\n",
    "<img src=\"images/prom-gastos-salud-per-capita-ano.png\" width=400>"
   ]
  },
  {
   "cell_type": "markdown",
   "metadata": {
    "collapsed": true
   },
   "source": [
    "**Ejercicio.** Construya una gráfica similar a la siguiente usando el archivo `indicadores-mundiales.csv`. Promedio de gastos per capita por año.\n",
    "\n",
    "<img src=\"images/prom-region-edades-ano.png\" width=400>"
   ]
  },
  {
   "cell_type": "markdown",
   "metadata": {
    "collapsed": true
   },
   "source": [
    "# ggplot2"
   ]
  },
  {
   "cell_type": "markdown",
   "metadata": {},
   "source": [
    "[Contenido](#Contenido)"
   ]
  },
  {
   "cell_type": "markdown",
   "metadata": {},
   "source": [
    "> [ggplot](http://ggplot.yhathq.com/docs/index.html)"
   ]
  },
  {
   "cell_type": "markdown",
   "metadata": {},
   "source": [
    "`ggplot`  es una implementación de la librería ggplot de R para el lenguaje Python. Un ejemplo completo es presentado en []().\n",
    "\n",
    "Para poder instalar la librería debe ejecutar el siguiente comando:\n",
    "\n",
    "```\n",
    "pip install ggplot\n",
    "```\n",
    "\n",
    "El sitio web del paquete ofrece ejemplos y material sobre el uso de la librería.\n",
    "\n",
    "Ejecute el siguiente ejemplo para verificar que la librería funciona correctamente."
   ]
  },
  {
   "cell_type": "code",
   "execution_count": null,
   "metadata": {},
   "outputs": [],
   "source": [
    "import ggplot as gg\n",
    "%matplotlib inline"
   ]
  },
  {
   "cell_type": "code",
   "execution_count": null,
   "metadata": {},
   "outputs": [],
   "source": [
    "import numpy as np\n",
    "import pandas as pd\n",
    "\n",
    "gg.ggplot(pd.DataFrame({'x':np.arange(10)}),\n",
    "       gg.aes(x='x')) + \\\n",
    "       gg.stat_function(fun=np.sin,color=\"red\") + \\\n",
    "       gg.stat_function(fun=np.cos,color=\"blue\")"
   ]
  },
  {
   "cell_type": "markdown",
   "metadata": {
    "collapsed": true
   },
   "source": [
    "---"
   ]
  },
  {
   "cell_type": "markdown",
   "metadata": {},
   "source": [
    "**Ejercicio.** Construya una gráfica similar a la siguiente usando el archivo `indicadores-mundiales.csv`. Se grafica la suma del porcetaje de la población por regiones.\n",
    "\n",
    "![alt text](images/suma-pob-region-edades-1.png)"
   ]
  },
  {
   "cell_type": "markdown",
   "metadata": {},
   "source": [
    "**Ejercicio.** Construya una gráfica similar a la siguiente usando el archivo `indicadores-mundiales.csv`. Se grafica la suma del porcetaje de la población por regiones.\n",
    "\n",
    "<img src=\"images/suma-pob-region-edades-2.png\" width=700>"
   ]
  },
  {
   "cell_type": "markdown",
   "metadata": {},
   "source": [
    "**Ejercicio.** Construya una gráfica similar a la siguiente usando el archivo `indicadores-mundiales.csv`. Se grafica la suma del porcetaje de la población por regiones.\n",
    "\n",
    "<img src=\"images/suma-pob-region-edades-3.png\" width=600>"
   ]
  },
  {
   "cell_type": "markdown",
   "metadata": {},
   "source": [
    "**Ejercicio.** Construya una gráfica similar a la siguiente usando el archivo `indicadores-mundiales.csv`. Se grafica la suma del porcetaje de la población por regiones.\n",
    "\n",
    "<img src=\"images/suma-pob-region-edades-4.png\" width=500>"
   ]
  },
  {
   "cell_type": "markdown",
   "metadata": {},
   "source": [
    "**Ejercicio.** Construya una gráfica similar a la siguiente usando el archivo `indicadores-mundiales.csv`. Se grafica la suma del porcetaje de la población por regiones.\n",
    "\n",
    "<img src=\"images/suma-pob-region-edades-5.png\" width=400>"
   ]
  },
  {
   "cell_type": "markdown",
   "metadata": {},
   "source": [
    "**Ejercicio.** Construya una gráfica similar a la siguiente usando el archivo `indicadores-mundiales.csv`. Promedio de gastos per capita por año.\n",
    "\n",
    "<img src=\"images/prom-gastos-salud-per-capita-ano.png\" width=400>"
   ]
  },
  {
   "cell_type": "markdown",
   "metadata": {
    "collapsed": true
   },
   "source": [
    "**Ejercicio.** Construya una gráfica similar a la siguiente usando el archivo `indicadores-mundiales.csv`. Promedio de gastos per capita por año.\n",
    "\n",
    "<img src=\"images/prom-region-edades-ano.png\" width=400>"
   ]
  },
  {
   "cell_type": "markdown",
   "metadata": {},
   "source": [
    "[Contenido](#Contenido)"
   ]
  }
 ],
 "metadata": {
  "kernelspec": {
   "display_name": "Python 3",
   "language": "python",
   "name": "python3"
  },
  "language_info": {
   "codemirror_mode": {
    "name": "ipython",
    "version": 3
   },
   "file_extension": ".py",
   "mimetype": "text/x-python",
   "name": "python",
   "nbconvert_exporter": "python",
   "pygments_lexer": "ipython3",
   "version": "3.7.1"
  }
 },
 "nbformat": 4,
 "nbformat_minor": 1
}
